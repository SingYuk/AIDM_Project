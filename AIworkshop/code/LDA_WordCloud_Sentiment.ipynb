{
 "cells": [
  {
   "cell_type": "markdown",
   "metadata": {},
   "source": [
    "# Chinese Version TFIDF and WordCloud"
   ]
  },
  {
   "cell_type": "markdown",
   "metadata": {},
   "source": [
    "### # Chinese Version TFIDF"
   ]
  },
  {
   "cell_type": "code",
   "execution_count": 98,
   "metadata": {},
   "outputs": [],
   "source": [
    "import pandas as pd\n",
    "import chardet\n",
    "import pandas as pd\n",
    "import numpy as np\n",
    "import jieba as jb\n",
    "from sklearn.feature_extraction.text import TfidfVectorizer, CountVectorizer\n",
    "from sklearn.decomposition import NMF, LatentDirichletAllocation\n",
    "import gensim\n",
    "from gensim import corpora\n",
    "import pyLDAvis\n"
   ]
  },
  {
   "cell_type": "code",
   "execution_count": 554,
   "metadata": {},
   "outputs": [
    {
     "data": {
      "text/plain": [
       "(4252, 5)"
      ]
     },
     "execution_count": 554,
     "metadata": {},
     "output_type": "execute_result"
    }
   ],
   "source": [
    "df = pd.read_csv('../data/Twitter/twitter.csv')\n",
    "df.shape"
   ]
  },
  {
   "cell_type": "code",
   "execution_count": 555,
   "metadata": {},
   "outputs": [
    {
     "data": {
      "text/html": [
       "<div>\n",
       "<style scoped>\n",
       "    .dataframe tbody tr th:only-of-type {\n",
       "        vertical-align: middle;\n",
       "    }\n",
       "\n",
       "    .dataframe tbody tr th {\n",
       "        vertical-align: top;\n",
       "    }\n",
       "\n",
       "    .dataframe thead th {\n",
       "        text-align: right;\n",
       "    }\n",
       "</style>\n",
       "<table border=\"1\" class=\"dataframe\">\n",
       "  <thead>\n",
       "    <tr style=\"text-align: right;\">\n",
       "      <th></th>\n",
       "      <th>user_id</th>\n",
       "      <th>created_at</th>\n",
       "      <th>screen_name</th>\n",
       "      <th>text</th>\n",
       "      <th>location</th>\n",
       "    </tr>\n",
       "  </thead>\n",
       "  <tbody>\n",
       "    <tr>\n",
       "      <th>0</th>\n",
       "      <td>9.160000e+17</td>\n",
       "      <td>18/4/2021 11:51</td>\n",
       "      <td>XGuoforWaterloo</td>\n",
       "      <td>@JohnOCAP Don't forget the #Fukushima #Nuclear...</td>\n",
       "      <td>Kitchener, Ontario</td>\n",
       "    </tr>\n",
       "    <tr>\n",
       "      <th>1</th>\n",
       "      <td>9.160000e+17</td>\n",
       "      <td>17/4/2021 11:49</td>\n",
       "      <td>XGuoforWaterloo</td>\n",
       "      <td>@rafaelmgrossi @iaeaorg The attitude of the US...</td>\n",
       "      <td>Kitchener, Ontario</td>\n",
       "    </tr>\n",
       "    <tr>\n",
       "      <th>2</th>\n",
       "      <td>1.463413e+09</td>\n",
       "      <td>18/4/2021 11:44</td>\n",
       "      <td>Aroguden</td>\n",
       "      <td>#SouthKorea raised concerns over #Japan's deci...</td>\n",
       "      <td>Barquisimeto-Venezuela</td>\n",
       "    </tr>\n",
       "    <tr>\n",
       "      <th>3</th>\n",
       "      <td>1.463413e+09</td>\n",
       "      <td>13/4/2021 11:32</td>\n",
       "      <td>Aroguden</td>\n",
       "      <td>#Japan will release more than a million tonnes...</td>\n",
       "      <td>Barquisimeto-Venezuela</td>\n",
       "    </tr>\n",
       "    <tr>\n",
       "      <th>4</th>\n",
       "      <td>1.463413e+09</td>\n",
       "      <td>14/4/2021 9:38</td>\n",
       "      <td>Aroguden</td>\n",
       "      <td>#SouthKorea aims to fight #Japan's #Fukushima ...</td>\n",
       "      <td>Barquisimeto-Venezuela</td>\n",
       "    </tr>\n",
       "  </tbody>\n",
       "</table>\n",
       "</div>"
      ],
      "text/plain": [
       "        user_id       created_at      screen_name  \\\n",
       "0  9.160000e+17  18/4/2021 11:51  XGuoforWaterloo   \n",
       "1  9.160000e+17  17/4/2021 11:49  XGuoforWaterloo   \n",
       "2  1.463413e+09  18/4/2021 11:44         Aroguden   \n",
       "3  1.463413e+09  13/4/2021 11:32         Aroguden   \n",
       "4  1.463413e+09   14/4/2021 9:38         Aroguden   \n",
       "\n",
       "                                                text                location  \n",
       "0  @JohnOCAP Don't forget the #Fukushima #Nuclear...      Kitchener, Ontario  \n",
       "1  @rafaelmgrossi @iaeaorg The attitude of the US...      Kitchener, Ontario  \n",
       "2  #SouthKorea raised concerns over #Japan's deci...  Barquisimeto-Venezuela  \n",
       "3  #Japan will release more than a million tonnes...  Barquisimeto-Venezuela  \n",
       "4  #SouthKorea aims to fight #Japan's #Fukushima ...  Barquisimeto-Venezuela  "
      ]
     },
     "execution_count": 555,
     "metadata": {},
     "output_type": "execute_result"
    }
   ],
   "source": [
    "#user_id\tcreated_at\tscreen_name\ttext\tJapanNuclearWater_tweet_df.location\n",
    "df.rename(columns={'内容':'text'\n",
    "                               }, inplace = True)\n",
    "df.head()\n"
   ]
  },
  {
   "cell_type": "code",
   "execution_count": 533,
   "metadata": {},
   "outputs": [],
   "source": [
    "#定义删除除字母,数字，汉字以外的所有符号的函数\n",
    "def remove_punctuation(line):\n",
    "    line = str(line)\n",
    "    if line.strip()=='':\n",
    "        return ''\n",
    "    #compile(u\"[^\\u4E00-\\u9FA5]\")\n",
    "    rule = re.compile(\"[^a-zA-Z0-9\\u4E00-\\u9FFF]\")\n",
    "    line = rule.sub('',line)\n",
    "    return line\n",
    " \n",
    "#停用词列表\n",
    "def stopwordslist(filepath):  \n",
    "    stopwords = [line.strip() for line in open(filepath, 'r', encoding='utf-8').readlines()]  \n",
    "    return stopwords  \n",
    " \n",
    "#加载停用词\n",
    "stopwords = stopwordslist(\"../data/ChineseEnglishStopWords.txt\")\n",
    "\n"
   ]
  },
  {
   "cell_type": "code",
   "execution_count": 534,
   "metadata": {},
   "outputs": [
    {
     "data": {
      "text/html": [
       "<div>\n",
       "<style scoped>\n",
       "    .dataframe tbody tr th:only-of-type {\n",
       "        vertical-align: middle;\n",
       "    }\n",
       "\n",
       "    .dataframe tbody tr th {\n",
       "        vertical-align: top;\n",
       "    }\n",
       "\n",
       "    .dataframe thead th {\n",
       "        text-align: right;\n",
       "    }\n",
       "</style>\n",
       "<table border=\"1\" class=\"dataframe\">\n",
       "  <thead>\n",
       "    <tr style=\"text-align: right;\">\n",
       "      <th></th>\n",
       "      <th>博主</th>\n",
       "      <th>id</th>\n",
       "      <th>时间</th>\n",
       "      <th>来源</th>\n",
       "      <th>收藏</th>\n",
       "      <th>转发</th>\n",
       "      <th>评论</th>\n",
       "      <th>点赞</th>\n",
       "      <th>艾特</th>\n",
       "      <th>标签</th>\n",
       "      <th>text</th>\n",
       "      <th>clean_text</th>\n",
       "      <th>cut_text</th>\n",
       "    </tr>\n",
       "  </thead>\n",
       "  <tbody>\n",
       "    <tr>\n",
       "      <th>0</th>\n",
       "      <td>2345落英缤纷</td>\n",
       "      <td>6.628711e+09</td>\n",
       "      <td>04月12日 22:59</td>\n",
       "      <td>OPPO智能手机</td>\n",
       "      <td>NaN</td>\n",
       "      <td>NaN</td>\n",
       "      <td>NaN</td>\n",
       "      <td>1.0</td>\n",
       "      <td>NaN</td>\n",
       "      <td>#日本核废水可致癌致畸致突变#</td>\n",
       "      <td>联合国呢？这么大的事都不发声的吗？我天虽然我不是医学生，但是切尔诺贝利纪录片看得我毛骨悚然，...</td>\n",
       "      <td>联合国呢这么大的事都不发声的吗我天虽然我不是医学生但是切尔诺贝利纪录片看得我毛骨悚然这个事情怎么办</td>\n",
       "      <td>联合国 事 发声 天 医学生 切尔诺贝利 纪录片 看得 毛骨悚然 事情</td>\n",
       "    </tr>\n",
       "    <tr>\n",
       "      <th>1</th>\n",
       "      <td>脸长也叫特长bai生</td>\n",
       "      <td>2.962594e+09</td>\n",
       "      <td>04月12日 22:59</td>\n",
       "      <td>OPPO R9s</td>\n",
       "      <td>NaN</td>\n",
       "      <td>NaN</td>\n",
       "      <td>NaN</td>\n",
       "      <td>NaN</td>\n",
       "      <td>NaN</td>\n",
       "      <td>#日本核废水可致癌致畸致突变#</td>\n",
       "      <td>日本核废水一旦排入太平洋中危害有多大,以后海鲜还有人敢吃吗?“哥斯拉”会因此出现吗？ ￼mo...</td>\n",
       "      <td>日本核废水一旦排入太平洋中危害有多大以后海鲜还有人敢吃吗哥斯拉会因此出现吗moons正浓的微博视频</td>\n",
       "      <td>日本 核 废水 排入 太平洋 中 危害 海鲜 人敢 吃 哥斯拉 moons 正浓 视频</td>\n",
       "    </tr>\n",
       "    <tr>\n",
       "      <th>2</th>\n",
       "      <td>小桃红柳绿</td>\n",
       "      <td>2.149115e+09</td>\n",
       "      <td>04月12日 22:59</td>\n",
       "      <td>华为P8</td>\n",
       "      <td>NaN</td>\n",
       "      <td>NaN</td>\n",
       "      <td>NaN</td>\n",
       "      <td>NaN</td>\n",
       "      <td>NaN</td>\n",
       "      <td>#日本核废水可致癌致畸致突变#</td>\n",
       "      <td>【专家：】4月9日，日本政府基本决定将福岛核污水排入大海。12日，日本首相菅义伟表示，解决东...</td>\n",
       "      <td>专家4月9日日本政府基本决定将福岛核污水排入大海12日日本首相菅义伟表示解决东京电力公司福岛...</td>\n",
       "      <td>专家 月 日 日本政府 福岛 核 污水 排入 大海 12 日 日本首相 菅义伟 解决 东京 ...</td>\n",
       "    </tr>\n",
       "    <tr>\n",
       "      <th>3</th>\n",
       "      <td>苹果柠檬刮油汤</td>\n",
       "      <td>2.635392e+09</td>\n",
       "      <td>04月12日 22:59</td>\n",
       "      <td>Android客户端</td>\n",
       "      <td>NaN</td>\n",
       "      <td>NaN</td>\n",
       "      <td>NaN</td>\n",
       "      <td>NaN</td>\n",
       "      <td>NaN</td>\n",
       "      <td>#日本核废水可致癌致畸致突变#</td>\n",
       "      <td>今日日本首相菅义伟再次表示，福岛核污水排入大海已经不能推迟了德国的海洋科学研究机构的计算显示...</td>\n",
       "      <td>今日日本首相菅义伟再次表示福岛核污水排入大海已经不能推迟了德国的海洋科学研究机构的计算显示从...</td>\n",
       "      <td>今日 日本首相 菅义伟 福岛 核 污水 排入 大海 推迟 德国 海洋 科学研究 机构 计算 ...</td>\n",
       "    </tr>\n",
       "    <tr>\n",
       "      <th>4</th>\n",
       "      <td>陳毅YiChen</td>\n",
       "      <td>2.389546e+09</td>\n",
       "      <td>04月12日 22:59</td>\n",
       "      <td>小米5s 拍照黑科技</td>\n",
       "      <td>NaN</td>\n",
       "      <td>NaN</td>\n",
       "      <td>NaN</td>\n",
       "      <td>NaN</td>\n",
       "      <td>NaN</td>\n",
       "      <td>#日本核废水可致癌致畸致突变#</td>\n",
       "      <td>【专家：】4月9日，日本政府基本决定将福岛核污水排入大海。12日，日本首相菅义伟表示，解决东...</td>\n",
       "      <td>专家4月9日日本政府基本决定将福岛核污水排入大海12日日本首相菅义伟表示解决东京电力公司福岛...</td>\n",
       "      <td>专家 月 日 日本政府 福岛 核 污水 排入 大海 12 日 日本首相 菅义伟 解决 东京 ...</td>\n",
       "    </tr>\n",
       "  </tbody>\n",
       "</table>\n",
       "</div>"
      ],
      "text/plain": [
       "           博主            id            时间          来源  收藏  转发  评论   点赞   艾特  \\\n",
       "0    2345落英缤纷  6.628711e+09  04月12日 22:59    OPPO智能手机 NaN NaN NaN  1.0  NaN   \n",
       "1  脸长也叫特长bai生  2.962594e+09  04月12日 22:59    OPPO R9s NaN NaN NaN  NaN  NaN   \n",
       "2       小桃红柳绿  2.149115e+09  04月12日 22:59        华为P8 NaN NaN NaN  NaN  NaN   \n",
       "3     苹果柠檬刮油汤  2.635392e+09  04月12日 22:59  Android客户端 NaN NaN NaN  NaN  NaN   \n",
       "4    陳毅YiChen  2.389546e+09  04月12日 22:59  小米5s 拍照黑科技 NaN NaN NaN  NaN  NaN   \n",
       "\n",
       "                标签                                               text  \\\n",
       "0  #日本核废水可致癌致畸致突变#  联合国呢？这么大的事都不发声的吗？我天虽然我不是医学生，但是切尔诺贝利纪录片看得我毛骨悚然，...   \n",
       "1  #日本核废水可致癌致畸致突变#  日本核废水一旦排入太平洋中危害有多大,以后海鲜还有人敢吃吗?“哥斯拉”会因此出现吗？ ￼mo...   \n",
       "2  #日本核废水可致癌致畸致突变#  【专家：】4月9日，日本政府基本决定将福岛核污水排入大海。12日，日本首相菅义伟表示，解决东...   \n",
       "3  #日本核废水可致癌致畸致突变#  今日日本首相菅义伟再次表示，福岛核污水排入大海已经不能推迟了德国的海洋科学研究机构的计算显示...   \n",
       "4  #日本核废水可致癌致畸致突变#  【专家：】4月9日，日本政府基本决定将福岛核污水排入大海。12日，日本首相菅义伟表示，解决东...   \n",
       "\n",
       "                                          clean_text  \\\n",
       "0  联合国呢这么大的事都不发声的吗我天虽然我不是医学生但是切尔诺贝利纪录片看得我毛骨悚然这个事情怎么办   \n",
       "1  日本核废水一旦排入太平洋中危害有多大以后海鲜还有人敢吃吗哥斯拉会因此出现吗moons正浓的微博视频   \n",
       "2  专家4月9日日本政府基本决定将福岛核污水排入大海12日日本首相菅义伟表示解决东京电力公司福岛...   \n",
       "3  今日日本首相菅义伟再次表示福岛核污水排入大海已经不能推迟了德国的海洋科学研究机构的计算显示从...   \n",
       "4  专家4月9日日本政府基本决定将福岛核污水排入大海12日日本首相菅义伟表示解决东京电力公司福岛...   \n",
       "\n",
       "                                            cut_text  \n",
       "0                联合国 事 发声 天 医学生 切尔诺贝利 纪录片 看得 毛骨悚然 事情  \n",
       "1        日本 核 废水 排入 太平洋 中 危害 海鲜 人敢 吃 哥斯拉 moons 正浓 视频  \n",
       "2  专家 月 日 日本政府 福岛 核 污水 排入 大海 12 日 日本首相 菅义伟 解决 东京 ...  \n",
       "3  今日 日本首相 菅义伟 福岛 核 污水 排入 大海 推迟 德国 海洋 科学研究 机构 计算 ...  \n",
       "4  专家 月 日 日本政府 福岛 核 污水 排入 大海 12 日 日本首相 菅义伟 解决 东京 ...  "
      ]
     },
     "execution_count": 534,
     "metadata": {},
     "output_type": "execute_result"
    }
   ],
   "source": [
    "#删除除汉字以外的所有符号\n",
    "import re\n",
    "df['clean_text'] = df['text'].apply(remove_punctuation)\n",
    " \n",
    "#分词，并过滤停用词\n",
    "df['cut_text'] = df['clean_text'].apply(lambda x: \" \".join([w for w in list(jb.cut(x)) if w not in stopwords]))\n",
    "df.head()\n"
   ]
  },
  {
   "cell_type": "code",
   "execution_count": 535,
   "metadata": {},
   "outputs": [],
   "source": [
    "no_features = 1000\n",
    " \n",
    " \n",
    "tfidf = TfidfVectorizer(max_features=no_features)\n",
    "tfidf_features = tfidf.fit_transform(df.cut_text)\n",
    "tfidf_feature_names = tfidf.get_feature_names()\n",
    " \n",
    " \n",
    "cv = CountVectorizer(max_features=no_features)\n",
    "cv_features = cv.fit_transform(df.cut_text)\n",
    "cv_feature_names = cv.get_feature_names()\n"
   ]
  },
  {
   "cell_type": "code",
   "execution_count": 536,
   "metadata": {},
   "outputs": [],
   "source": [
    "no_topics = 9\n",
    " \n",
    "#NMF\n",
    "nmf_tfidf = NMF(n_components=no_topics, random_state=1, alpha=.1, l1_ratio=.5, init='nndsvd').fit(tfidf_features)\n",
    " \n",
    "#LDA\n",
    "lda_cv = LatentDirichletAllocation(n_components=no_topics, max_iter=5, learning_method='online', learning_offset=50.,random_state=0).fit(cv_features)"
   ]
  },
  {
   "cell_type": "code",
   "execution_count": 537,
   "metadata": {},
   "outputs": [
    {
     "name": "stdout",
     "output_type": "stream",
     "text": [
      "---------------NMF-tfidf_features 主题-----------------------------------------\n",
      "主题 0 : 国际|吴江|处置|中方|严正|交涉|日方|提出|不顾|福岛\n",
      "主题 1 : 视频|新闻|央视|赵立坚|收起|参考|专家|11|回应|张熙\n",
      "主题 2 : 日本|废水|太平洋|排放|排核|中国|美国|入海|真的|国家\n",
      "主题 3 : 失望|深感|人权|视频|大海|联合国|排入|威胁|环境|日本政府\n",
      "主题 4 : 美国|产品|日本|大米|鱼类|进口|作何解释|政策|不知|管理局\n",
      "主题 5 : 计算结果|显示|研究|影响|机构|57|天内|大半|德国|扩散\n",
      "主题 6 : 网页|链接|排海|关切|外交部|中方|废水|查看|此微博|作者\n",
      "主题 7 : 同意|一段|报告|链接|建议|兴趣|实践|图四是|iaea4|关键词\n",
      "主题 8 : 日方|国际|负责|公共利益|反对|意见|福岛|看着|视而不见|听而不闻\n",
      "\n",
      "--------------Lda-CountVectorizer_features 主题--------------------------------\n",
      "主题 0 : 日本|吴江|提出|严正|交涉|废水|机构|召见|产品|不顾\n",
      "主题 1 : 任豪|视频|央视|粉丝|记者|申杨|总台|网页|链接|废水\n",
      "主题 2 : 视频|大海|收起|排入|专家|废水|新闻|人权|失望|日本政府\n",
      "主题 3 : 影响|环球|核污染|资讯|机构|研究|显示|计算结果|废水|美国\n",
      "主题 4 : 废水|日本|排放|福岛|日本政府|海洋|入海|排海|核电站|收起\n",
      "主题 5 : 日本|废水|中国|太平洋|排核|世界|排放|事件|视频|全世界\n",
      "主题 6 : 废水|日本政府|日本|影响|全球|收起|入海|美国|危及|道破\n",
      "主题 7 : 国际|日方|废水|外交部|中方|处置|福岛|核电站|排海|反对\n",
      "主题 8 : 日本|废水|美国|真的|人类|收起|国家|海洋|历史|核废料\n"
     ]
    }
   ],
   "source": [
    "def display_topics(model, feature_names, no_top_words):\n",
    "    for topic_idx, topic in enumerate(model.components_):\n",
    "        print(\"主题 {} : {}\".format(topic_idx,\"|\".join([feature_names[i] for i in topic.argsort()[:-no_top_words - 1:-1]])))\n",
    " \n",
    "no_top_words = 10\n",
    "print('---------------NMF-tfidf_features 主题-----------------------------------------')\n",
    "display_topics(nmf_tfidf, tfidf_feature_names, no_top_words)\n",
    "print()\n",
    "print('--------------Lda-CountVectorizer_features 主题--------------------------------')\n",
    "display_topics(lda_cv, cv_feature_names, no_top_words)\n"
   ]
  },
  {
   "cell_type": "code",
   "execution_count": 538,
   "metadata": {},
   "outputs": [],
   "source": [
    "text_data = df.cut_text.apply(lambda x:x.split())\n",
    "#过滤掉单个汉字的词语\n",
    "text_data = text_data.apply(lambda x:[w for w in x if len(w)>1] )\n",
    " \n",
    "dictionary = corpora.Dictionary(text_data)\n",
    " \n",
    "#过滤掉词频小于5次,和词频大于90%的词语\n",
    "dictionary.filter_extremes(no_below=5, no_above=0.9)"
   ]
  },
  {
   "cell_type": "code",
   "execution_count": 539,
   "metadata": {},
   "outputs": [
    {
     "name": "stdout",
     "output_type": "stream",
     "text": [
      "主题 0: \n",
      "0.054*\"日本\" + 0.048*\"废水\" + 0.044*\"失望\" + 0.028*\"发表\" + 0.019*\"中国\" + 0.017*\"持续\" + 0.016*\"事件\" + 0.016*\"收起\"\n",
      "\n",
      "主题 1: \n",
      "0.033*\"太平洋\" + 0.030*\"日本\" + 0.028*\"废水\" + 0.027*\"影响\" + 0.026*\"视频\" + 0.023*\"员工\" + 0.023*\"机构\" + 0.022*\"资讯\"\n",
      "\n",
      "主题 2: \n",
      "0.121*\"视频\" + 0.038*\"收起\" + 0.029*\"央视\" + 0.029*\"产品\" + 0.025*\"百万吨\" + 0.024*\"日本\" + 0.021*\"赵立坚\" + 0.021*\"专家\"\n",
      "\n",
      "主题 3: \n",
      "0.036*\"废水\" + 0.032*\"日本\" + 0.024*\"国际\" + 0.023*\"处置\" + 0.021*\"福岛\" + 0.019*\"事故\" + 0.018*\"人权\" + 0.017*\"环境\"\n",
      "\n",
      "主题 4: \n",
      "0.079*\"日本\" + 0.053*\"废水\" + 0.034*\"视频\" + 0.025*\"进口\" + 0.025*\"美国\" + 0.022*\"链接\" + 0.021*\"网页\" + 0.021*\"日本政府\"\n",
      "\n",
      "主题 5: \n",
      "0.061*\"废水\" + 0.046*\"日本\" + 0.028*\"麻生太郎\" + 0.023*\"视频\" + 0.020*\"中国\" + 0.017*\"排放\" + 0.017*\"太平洋\" + 0.015*\"大海\"\n",
      "\n",
      "主题 6: \n",
      "0.097*\"日方\" + 0.062*\"国际\" + 0.039*\"废水\" + 0.035*\"下水道\" + 0.028*\"外交部\" + 0.028*\"日本\" + 0.022*\"视频\" + 0.020*\"处置\"\n",
      "\n",
      "主题 7: \n",
      "0.055*\"废水\" + 0.048*\"日本\" + 0.030*\"日本政府\" + 0.029*\"排放\" + 0.027*\"福岛\" + 0.023*\"排入\" + 0.020*\"污染\" + 0.020*\"海洋\"\n",
      "\n",
      "主题 8: \n",
      "0.056*\"任豪\" + 0.043*\"废水\" + 0.034*\"粉丝\" + 0.033*\"姚琛\" + 0.032*\"日本\" + 0.019*\"小号\" + 0.018*\"道歉\" + 0.014*\"视频\"\n",
      "\n"
     ]
    }
   ],
   "source": [
    "#计数的语料\n",
    "corpus = [dictionary.doc2bow(text) for text in text_data]\n",
    " \n",
    "#普通LDA模型\n",
    "import gensim\n",
    "no_topics = 9\n",
    "ldamodel = gensim.models.ldamodel.LdaModel(corpus, num_topics = no_topics, id2word=dictionary)\n",
    " \n",
    "topics = ldamodel.print_topics(num_words=8)\n",
    "for topic in topics:\n",
    "    print(\"主题 %d: \" % (topic[0]))\n",
    "    print(topic[1])\n",
    "    print()"
   ]
  },
  {
   "cell_type": "code",
   "execution_count": 540,
   "metadata": {},
   "outputs": [
    {
     "name": "stdout",
     "output_type": "stream",
     "text": [
      "主题 0: \n",
      "0.023*\"日本\" + 0.014*\"美国\" + 0.014*\"产品\" + 0.012*\"排核\" + 0.009*\"视频\" + 0.008*\"进口\" + 0.008*\"废水\" + 0.008*\"鱼类\"\n",
      "\n",
      "主题 1: \n",
      "0.019*\"视频\" + 0.010*\"日本\" + 0.010*\"国际\" + 0.008*\"日方\" + 0.008*\"废水\" + 0.007*\"真的\" + 0.006*\"国家\" + 0.006*\"火旺\"\n",
      "\n",
      "主题 2: \n",
      "0.016*\"链接\" + 0.016*\"网页\" + 0.014*\"显示\" + 0.013*\"计算结果\" + 0.013*\"研究\" + 0.013*\"外交部\" + 0.013*\"排海\" + 0.012*\"影响\"\n",
      "\n",
      "主题 3: \n",
      "0.025*\"收起\" + 0.020*\"视频\" + 0.011*\"日本\" + 0.011*\"新闻\" + 0.011*\"央视\" + 0.010*\"废水\" + 0.007*\"海里\" + 0.007*\"太平洋\"\n",
      "\n",
      "主题 4: \n",
      "0.033*\"新闻\" + 0.029*\"央视\" + 0.028*\"赵立坚\" + 0.022*\"视频\" + 0.013*\"废水\" + 0.012*\"日本\" + 0.009*\"日本政府\" + 0.007*\"收起\"\n",
      "\n",
      "主题 5: \n",
      "0.012*\"视频\" + 0.011*\"专家\" + 0.010*\"参考\" + 0.009*\"失望\" + 0.009*\"深感\" + 0.008*\"人权\" + 0.008*\"日本\" + 0.008*\"废水\"\n",
      "\n",
      "主题 6: \n",
      "0.009*\"视频\" + 0.009*\"日本\" + 0.008*\"废水\" + 0.008*\"大海\" + 0.008*\"海洋\" + 0.008*\"排放\" + 0.008*\"深感\" + 0.008*\"失望\"\n",
      "\n",
      "主题 7: \n",
      "0.017*\"国际\" + 0.011*\"吴江\" + 0.010*\"排海\" + 0.009*\"日方\" + 0.009*\"废水\" + 0.008*\"中方\" + 0.008*\"福岛\" + 0.008*\"处置\"\n",
      "\n",
      "主题 8: \n",
      "0.020*\"日方\" + 0.013*\"国际\" + 0.012*\"反对\" + 0.012*\"负责\" + 0.009*\"日本\" + 0.009*\"一倒\" + 0.008*\"公共利益\" + 0.007*\"废水\"\n",
      "\n"
     ]
    }
   ],
   "source": [
    "#tf-idf语料\n",
    "tfidf = gensim.models.TfidfModel(corpus)\n",
    "corpus_tfidf = tfidf[corpus]\n",
    " \n",
    "#多核并行lda模型\n",
    "no_topics = 9\n",
    "tf_idf_lda_model = gensim.models.LdaMulticore(corpus_tfidf, num_topics=no_topics, id2word=dictionary, passes=2, workers=4)\n",
    " \n",
    "topics = tf_idf_lda_model.print_topics(num_words=8)\n",
    "for topic in topics:\n",
    "    print(\"主题 %d: \" % (topic[0]))\n",
    "    print(topic[1])\n",
    "    print()"
   ]
  },
  {
   "cell_type": "code",
   "execution_count": 246,
   "metadata": {},
   "outputs": [],
   "source": [
    "# import numpy as np\n",
    "# import pandas as pd\n",
    "# submit1_path=\"../data/Twitter/twitter.csv\"\n",
    "# submit1=pd.read_csv(submit1_path)\n",
    "# #submit1.drop('Target',axis=1,inplace=True)\n",
    "# #submit1.Predicted=submit1.Predicted.apply(lambda x: \"00\"+str(int(x)+1))\n",
    "# #submit1.Predicted=submit1.Predicted.apply(lambda x: str(int(x)))\n",
    "# submit1.user_id=submit1.user_id.apply(lambda x: str(x))\n",
    "# #submit1.Id=submit1.Id.apply(lambda x: str(x).zfill(6))\n",
    "# submit1=submit1.sort_values('user_id',ascending=True)\n",
    "# submit1.to_csv(\"../data/Twitter/twitter.txt\",sep='\\t',index=None,header=None)\n"
   ]
  },
  {
   "cell_type": "code",
   "execution_count": null,
   "metadata": {},
   "outputs": [],
   "source": [
    "# f= open('../data/Twitter/twitter.txt')\n",
    "# f = f.read()\n",
    "# f = [f]\n",
    "# f"
   ]
  },
  {
   "cell_type": "markdown",
   "metadata": {},
   "source": [
    "### Word Cloud"
   ]
  },
  {
   "cell_type": "code",
   "execution_count": 541,
   "metadata": {},
   "outputs": [],
   "source": [
    "#导入包\n",
    "import pandas as pd                      #数据处理包\n",
    "import numpy as np                       #数据处理包\n",
    "from wordcloud import WordCloud          #绘制词云\n",
    "import jieba                             #中文分词包\n",
    "import jieba.posseg as pseg\n",
    "import re                                #正则表达式，可用于匹配中文文本\n",
    "import collections                       #计算词频\n"
   ]
  },
  {
   "cell_type": "code",
   "execution_count": 542,
   "metadata": {},
   "outputs": [
    {
     "data": {
      "text/html": [
       "<div>\n",
       "<style scoped>\n",
       "    .dataframe tbody tr th:only-of-type {\n",
       "        vertical-align: middle;\n",
       "    }\n",
       "\n",
       "    .dataframe tbody tr th {\n",
       "        vertical-align: top;\n",
       "    }\n",
       "\n",
       "    .dataframe thead th {\n",
       "        text-align: right;\n",
       "    }\n",
       "</style>\n",
       "<table border=\"1\" class=\"dataframe\">\n",
       "  <thead>\n",
       "    <tr style=\"text-align: right;\">\n",
       "      <th></th>\n",
       "      <th>博主</th>\n",
       "      <th>id</th>\n",
       "      <th>时间</th>\n",
       "      <th>来源</th>\n",
       "      <th>收藏</th>\n",
       "      <th>转发</th>\n",
       "      <th>评论</th>\n",
       "      <th>点赞</th>\n",
       "      <th>艾特</th>\n",
       "      <th>标签</th>\n",
       "      <th>内容</th>\n",
       "    </tr>\n",
       "  </thead>\n",
       "  <tbody>\n",
       "    <tr>\n",
       "      <th>0</th>\n",
       "      <td>2345落英缤纷</td>\n",
       "      <td>6.628711e+09</td>\n",
       "      <td>04月12日 22:59</td>\n",
       "      <td>OPPO智能手机</td>\n",
       "      <td>NaN</td>\n",
       "      <td>NaN</td>\n",
       "      <td>NaN</td>\n",
       "      <td>1.0</td>\n",
       "      <td>NaN</td>\n",
       "      <td>#日本核废水可致癌致畸致突变#</td>\n",
       "      <td>联合国呢？这么大的事都不发声的吗？我天虽然我不是医学生，但是切尔诺贝利纪录片看得我毛骨悚然，...</td>\n",
       "    </tr>\n",
       "    <tr>\n",
       "      <th>1</th>\n",
       "      <td>脸长也叫特长bai生</td>\n",
       "      <td>2.962594e+09</td>\n",
       "      <td>04月12日 22:59</td>\n",
       "      <td>OPPO R9s</td>\n",
       "      <td>NaN</td>\n",
       "      <td>NaN</td>\n",
       "      <td>NaN</td>\n",
       "      <td>NaN</td>\n",
       "      <td>NaN</td>\n",
       "      <td>#日本核废水可致癌致畸致突变#</td>\n",
       "      <td>日本核废水一旦排入太平洋中危害有多大,以后海鲜还有人敢吃吗?“哥斯拉”会因此出现吗？ ￼mo...</td>\n",
       "    </tr>\n",
       "    <tr>\n",
       "      <th>2</th>\n",
       "      <td>小桃红柳绿</td>\n",
       "      <td>2.149115e+09</td>\n",
       "      <td>04月12日 22:59</td>\n",
       "      <td>华为P8</td>\n",
       "      <td>NaN</td>\n",
       "      <td>NaN</td>\n",
       "      <td>NaN</td>\n",
       "      <td>NaN</td>\n",
       "      <td>NaN</td>\n",
       "      <td>#日本核废水可致癌致畸致突变#</td>\n",
       "      <td>【专家：】4月9日，日本政府基本决定将福岛核污水排入大海。12日，日本首相菅义伟表示，解决东...</td>\n",
       "    </tr>\n",
       "    <tr>\n",
       "      <th>3</th>\n",
       "      <td>苹果柠檬刮油汤</td>\n",
       "      <td>2.635392e+09</td>\n",
       "      <td>04月12日 22:59</td>\n",
       "      <td>Android客户端</td>\n",
       "      <td>NaN</td>\n",
       "      <td>NaN</td>\n",
       "      <td>NaN</td>\n",
       "      <td>NaN</td>\n",
       "      <td>NaN</td>\n",
       "      <td>#日本核废水可致癌致畸致突变#</td>\n",
       "      <td>今日日本首相菅义伟再次表示，福岛核污水排入大海已经不能推迟了德国的海洋科学研究机构的计算显示...</td>\n",
       "    </tr>\n",
       "    <tr>\n",
       "      <th>4</th>\n",
       "      <td>陳毅YiChen</td>\n",
       "      <td>2.389546e+09</td>\n",
       "      <td>04月12日 22:59</td>\n",
       "      <td>小米5s 拍照黑科技</td>\n",
       "      <td>NaN</td>\n",
       "      <td>NaN</td>\n",
       "      <td>NaN</td>\n",
       "      <td>NaN</td>\n",
       "      <td>NaN</td>\n",
       "      <td>#日本核废水可致癌致畸致突变#</td>\n",
       "      <td>【专家：】4月9日，日本政府基本决定将福岛核污水排入大海。12日，日本首相菅义伟表示，解决东...</td>\n",
       "    </tr>\n",
       "  </tbody>\n",
       "</table>\n",
       "</div>"
      ],
      "text/plain": [
       "           博主            id            时间          来源  收藏  转发  评论   点赞   艾特  \\\n",
       "0    2345落英缤纷  6.628711e+09  04月12日 22:59    OPPO智能手机 NaN NaN NaN  1.0  NaN   \n",
       "1  脸长也叫特长bai生  2.962594e+09  04月12日 22:59    OPPO R9s NaN NaN NaN  NaN  NaN   \n",
       "2       小桃红柳绿  2.149115e+09  04月12日 22:59        华为P8 NaN NaN NaN  NaN  NaN   \n",
       "3     苹果柠檬刮油汤  2.635392e+09  04月12日 22:59  Android客户端 NaN NaN NaN  NaN  NaN   \n",
       "4    陳毅YiChen  2.389546e+09  04月12日 22:59  小米5s 拍照黑科技 NaN NaN NaN  NaN  NaN   \n",
       "\n",
       "                标签                                                 内容  \n",
       "0  #日本核废水可致癌致畸致突变#  联合国呢？这么大的事都不发声的吗？我天虽然我不是医学生，但是切尔诺贝利纪录片看得我毛骨悚然，...  \n",
       "1  #日本核废水可致癌致畸致突变#  日本核废水一旦排入太平洋中危害有多大,以后海鲜还有人敢吃吗?“哥斯拉”会因此出现吗？ ￼mo...  \n",
       "2  #日本核废水可致癌致畸致突变#  【专家：】4月9日，日本政府基本决定将福岛核污水排入大海。12日，日本首相菅义伟表示，解决东...  \n",
       "3  #日本核废水可致癌致畸致突变#  今日日本首相菅义伟再次表示，福岛核污水排入大海已经不能推迟了德国的海洋科学研究机构的计算显示...  \n",
       "4  #日本核废水可致癌致畸致突变#  【专家：】4月9日，日本政府基本决定将福岛核污水排入大海。12日，日本首相菅义伟表示，解决东...  "
      ]
     },
     "execution_count": 542,
     "metadata": {},
     "output_type": "execute_result"
    }
   ],
   "source": [
    "weibo = pd.read_csv('../data/Weibo/weibo.csv',low_memory=False)\n",
    "df_question.head()\n",
    "df = df_question['内容']\n",
    "df.to_csv(\"../data/weiboText.csv\",index=False,sep=',', encoding='utf-8')\n",
    "weibo.head()"
   ]
  },
  {
   "cell_type": "code",
   "execution_count": 543,
   "metadata": {},
   "outputs": [],
   "source": [
    "\n",
    "#  词云制作\n",
    "#  两个都是第三方库\n",
    "import jieba\n",
    "import  wordcloud\n",
    "#  打开文件（保存 弹幕的 csv 文件）\n",
    "path = '../data/weiboText.csv'\n",
    "f = open(path,encoding='utf-8')\n",
    "txt = f.read()  #   读取\n",
    "txt_list = jieba.lcut(txt)  #  处理  分词数据(返回数据类型列表)\n",
    "#print(txt_list)   #  理解为分词处理 后的结果\n",
    "# 接下来 理解为  将其这些内容 拼接为  完整的  字符串\n",
    "string = ' '.join(txt_list)\n",
    "# print(string)\n",
    "\n",
    "#选取中文：使用正则表达式\n",
    "filter_pattern = re.compile('[^\\u4E00-\\u9FD5]+')\n",
    "chinese_only = filter_pattern.sub('', string)\n",
    "\n",
    "\n"
   ]
  },
  {
   "cell_type": "code",
   "execution_count": 544,
   "metadata": {},
   "outputs": [],
   "source": [
    "#中文分词\n",
    "words_list = pseg.cut(chinese_only)  \n",
    "\n",
    "#删除停用词\n",
    "stopwords1 = [line.rstrip() for line in open('../data/ChineseEnglishStopWords.txt', 'r', encoding='utf-8')]\n",
    "stopwords = stopwords1 \n",
    "\n",
    "meaninful_words = []\n",
    "for word, flag in words_list:\n",
    "    if word not in stopwords:\n",
    "        meaninful_words.append(word)\n",
    "        \n"
   ]
  },
  {
   "cell_type": "code",
   "execution_count": 545,
   "metadata": {},
   "outputs": [
    {
     "name": "stdout",
     "output_type": "stream",
     "text": [
      "[('废水', 6106), ('日本', 5970), ('核', 5530), ('视频', 2081), ('福岛', 1893), ('收起', 1844), ('排放', 1625), ('国际', 1619), ('说', 1542), ('日方', 1287), ('日本政府', 1257), ('日', 1239), ('中国', 1205), ('美国', 1158), ('喝', 1090), ('核电站', 1082), ('海洋', 1007), ('太平洋', 1004), ('排海', 1001), ('入海', 735), ('处置', 711), ('国家', 703), ('外交部', 639), ('排入', 630), ('链接', 610), ('大海', 600), ('影响', 600), ('人类', 594), ('月', 587), ('专家', 568)]\n"
     ]
    }
   ],
   "source": [
    "#计算词频，一行解决\n",
    "word_counts = collections.Counter(meaninful_words) # 对分词做词频统计\n",
    "word_counts_top30 = word_counts.most_common(30) # 获取前30最高频的词\n",
    "print (word_counts_top30) \n"
   ]
  },
  {
   "cell_type": "code",
   "execution_count": 546,
   "metadata": {},
   "outputs": [
    {
     "data": {
      "text/plain": [
       "<matplotlib.image.AxesImage at 0x7fd134e9db80>"
      ]
     },
     "execution_count": 546,
     "metadata": {},
     "output_type": "execute_result"
    },
    {
     "data": {
      "image/png": "[encoded data removed]",
      "text/plain": [
       "<Figure size 432x288 with 1 Axes>"
      ]
     },
     "metadata": {
      "needs_background": "light"
     },
     "output_type": "display_data"
    }
   ],
   "source": [
    "import matplotlib.pyplot as plt\n",
    "from PIL import Image\n",
    "china = np.array(Image.open('../figures/china_mask.png'))\n",
    "wc = WordCloud(mask=china,background_color = \"white\",max_words = 300,font_path='../data/simfang.ttf',min_font_size = 15,max_font_size = 80,width = 120,height = 600)\n",
    "wc.generate_from_frequencies(word_counts)\n",
    "wc.to_file(\"WeiboText_Nuclear.png\")\n",
    "plt.figure()\n",
    "plt.imshow(wc, interpolation=\"bilinear\")\n"
   ]
  },
  {
   "cell_type": "markdown",
   "metadata": {},
   "source": [
    "### 英文词云"
   ]
  },
  {
   "cell_type": "code",
   "execution_count": 553,
   "metadata": {},
   "outputs": [
    {
     "name": "stdout",
     "output_type": "stream",
     "text": [
      "<wordcloud.wordcloud.WordCloud object at 0x7fd13b19bb80>\n"
     ]
    },
    {
     "data": {
      "image/png": "[encoded data removed]",
      "text/plain": [
       "<Figure size 432x288 with 1 Axes>"
      ]
     },
     "metadata": {
      "needs_background": "light"
     },
     "output_type": "display_data"
    }
   ],
   "source": [
    "import numpy as np # linear algebra\n",
    "import pandas as pd \n",
    "import matplotlib as mpl\n",
    "import matplotlib.pyplot as plt\n",
    "%matplotlib inline\n",
    "\n",
    "from subprocess import check_output\n",
    "from wordcloud import WordCloud, STOPWORDS\n",
    "\n",
    "#mpl.rcParams['figure.figsize']=(8.0,6.0)    #(6.0,4.0)\n",
    "mpl.rcParams['font.size']=12                #10 \n",
    "mpl.rcParams['savefig.dpi']=100             #72 \n",
    "mpl.rcParams['figure.subplot.bottom']=.1 \n",
    "\n",
    "# twitter = np.array(Image.open('../figures/twitter_mask.png'))\n",
    "china = np.array(Image.open('../figures/china_mask.png'))\n",
    "england = np.array(Image.open('../figures/england_mask.png'))\n",
    "india = np.array(Image.open('../figures/india_mask.png'))\n",
    "japan = np.array(Image.open('../figures/japan_mask.png'))\n",
    "USA = np.array(Image.open('../figures/USA_mask.png'))\n",
    "\n",
    "#IndiaTwit JapanTwit USATwit\n",
    "stopwords = set(STOPWORDS)\n",
    "data = pd.read_csv(\"../data/RegionDataForWordCloudandSentiment/HongKongTwist.csv\")\n",
    "\n",
    "wordcloud = WordCloud(\n",
    "                          mask=USA,\n",
    "                          background_color='white',\n",
    "                          stopwords=stopwords,\n",
    "                          max_words=100,\n",
    "                          max_font_size=50, \n",
    "                          random_state=42\n",
    "                         ).generate(str(data['text']))\n",
    "\n",
    "print(wordcloud)\n",
    "fig = plt.figure(1)\n",
    "plt.imshow(wordcloud)\n",
    "plt.axis('off')\n",
    "plt.show()\n",
    "fig.savefig(\"HKTwit.png\", dpi=900)"
   ]
  },
  {
   "cell_type": "markdown",
   "metadata": {},
   "source": [
    "### 情感分析"
   ]
  },
  {
   "cell_type": "code",
   "execution_count": 301,
   "metadata": {},
   "outputs": [
    {
     "name": "stdout",
     "output_type": "stream",
     "text": [
      "Collecting snownlp\n",
      "\u001b[33m  WARNING: Retrying (Retry(total=4, connect=None, read=None, redirect=None, status=None)) after connection broken by 'ReadTimeoutError(\"HTTPSConnectionPool(host='files.pythonhosted.org', port=443): Read timed out. (read timeout=15)\")': /packages/3d/b3/37567686662100d3bce62d3b0f2adec18ab4b9ff2b61abd7a61c39343c1d/snownlp-0.12.3.tar.gz\u001b[0m\n",
      "  Downloading snownlp-0.12.3.tar.gz (37.6 MB)\n",
      "\u001b[K     |████████████████████████████████| 37.6 MB 1.2 MB/s eta 0:00:01\n",
      "\u001b[?25hBuilding wheels for collected packages: snownlp\n",
      "  Building wheel for snownlp (setup.py) ... \u001b[?25ldone\n",
      "\u001b[?25h  Created wheel for snownlp: filename=snownlp-0.12.3-py3-none-any.whl size=37760957 sha256=e35c212bb4d57e05c64117aec3bcb4e86bf27b06fde697b210121fed3410e840\n",
      "  Stored in directory: /Users/sing/Library/Caches/pip/wheels/09/14/c5/ea9aee34229caa97c6f6ff78c82c7f2b1a3423c1f37227b6a6\n",
      "Successfully built snownlp\n",
      "Installing collected packages: snownlp\n",
      "Successfully installed snownlp-0.12.3\n",
      "Note: you may need to restart the kernel to use updated packages.\n"
     ]
    }
   ],
   "source": [
    "pip install snownlp"
   ]
  },
  {
   "cell_type": "code",
   "execution_count": 556,
   "metadata": {},
   "outputs": [
    {
     "data": {
      "text/html": [
       "<div>\n",
       "<style scoped>\n",
       "    .dataframe tbody tr th:only-of-type {\n",
       "        vertical-align: middle;\n",
       "    }\n",
       "\n",
       "    .dataframe tbody tr th {\n",
       "        vertical-align: top;\n",
       "    }\n",
       "\n",
       "    .dataframe thead th {\n",
       "        text-align: right;\n",
       "    }\n",
       "</style>\n",
       "<table border=\"1\" class=\"dataframe\">\n",
       "  <thead>\n",
       "    <tr style=\"text-align: right;\">\n",
       "      <th></th>\n",
       "      <th>博主</th>\n",
       "      <th>id</th>\n",
       "      <th>时间</th>\n",
       "      <th>来源</th>\n",
       "      <th>收藏</th>\n",
       "      <th>转发</th>\n",
       "      <th>评论</th>\n",
       "      <th>点赞</th>\n",
       "      <th>艾特</th>\n",
       "      <th>标签</th>\n",
       "      <th>内容</th>\n",
       "    </tr>\n",
       "  </thead>\n",
       "  <tbody>\n",
       "    <tr>\n",
       "      <th>0</th>\n",
       "      <td>2345落英缤纷</td>\n",
       "      <td>6.628711e+09</td>\n",
       "      <td>04月12日 22:59</td>\n",
       "      <td>OPPO智能手机</td>\n",
       "      <td>NaN</td>\n",
       "      <td>NaN</td>\n",
       "      <td>NaN</td>\n",
       "      <td>1.0</td>\n",
       "      <td>NaN</td>\n",
       "      <td>#日本核废水可致癌致畸致突变#</td>\n",
       "      <td>联合国呢？这么大的事都不发声的吗？我天虽然我不是医学生，但是切尔诺贝利纪录片看得我毛骨悚然，...</td>\n",
       "    </tr>\n",
       "    <tr>\n",
       "      <th>1</th>\n",
       "      <td>脸长也叫特长bai生</td>\n",
       "      <td>2.962594e+09</td>\n",
       "      <td>04月12日 22:59</td>\n",
       "      <td>OPPO R9s</td>\n",
       "      <td>NaN</td>\n",
       "      <td>NaN</td>\n",
       "      <td>NaN</td>\n",
       "      <td>NaN</td>\n",
       "      <td>NaN</td>\n",
       "      <td>#日本核废水可致癌致畸致突变#</td>\n",
       "      <td>日本核废水一旦排入太平洋中危害有多大,以后海鲜还有人敢吃吗?“哥斯拉”会因此出现吗？ ￼mo...</td>\n",
       "    </tr>\n",
       "    <tr>\n",
       "      <th>2</th>\n",
       "      <td>小桃红柳绿</td>\n",
       "      <td>2.149115e+09</td>\n",
       "      <td>04月12日 22:59</td>\n",
       "      <td>华为P8</td>\n",
       "      <td>NaN</td>\n",
       "      <td>NaN</td>\n",
       "      <td>NaN</td>\n",
       "      <td>NaN</td>\n",
       "      <td>NaN</td>\n",
       "      <td>#日本核废水可致癌致畸致突变#</td>\n",
       "      <td>【专家：】4月9日，日本政府基本决定将福岛核污水排入大海。12日，日本首相菅义伟表示，解决东...</td>\n",
       "    </tr>\n",
       "    <tr>\n",
       "      <th>3</th>\n",
       "      <td>苹果柠檬刮油汤</td>\n",
       "      <td>2.635392e+09</td>\n",
       "      <td>04月12日 22:59</td>\n",
       "      <td>Android客户端</td>\n",
       "      <td>NaN</td>\n",
       "      <td>NaN</td>\n",
       "      <td>NaN</td>\n",
       "      <td>NaN</td>\n",
       "      <td>NaN</td>\n",
       "      <td>#日本核废水可致癌致畸致突变#</td>\n",
       "      <td>今日日本首相菅义伟再次表示，福岛核污水排入大海已经不能推迟了德国的海洋科学研究机构的计算显示...</td>\n",
       "    </tr>\n",
       "    <tr>\n",
       "      <th>4</th>\n",
       "      <td>陳毅YiChen</td>\n",
       "      <td>2.389546e+09</td>\n",
       "      <td>04月12日 22:59</td>\n",
       "      <td>小米5s 拍照黑科技</td>\n",
       "      <td>NaN</td>\n",
       "      <td>NaN</td>\n",
       "      <td>NaN</td>\n",
       "      <td>NaN</td>\n",
       "      <td>NaN</td>\n",
       "      <td>#日本核废水可致癌致畸致突变#</td>\n",
       "      <td>【专家：】4月9日，日本政府基本决定将福岛核污水排入大海。12日，日本首相菅义伟表示，解决东...</td>\n",
       "    </tr>\n",
       "  </tbody>\n",
       "</table>\n",
       "</div>"
      ],
      "text/plain": [
       "           博主            id            时间          来源  收藏  转发  评论   点赞   艾特  \\\n",
       "0    2345落英缤纷  6.628711e+09  04月12日 22:59    OPPO智能手机 NaN NaN NaN  1.0  NaN   \n",
       "1  脸长也叫特长bai生  2.962594e+09  04月12日 22:59    OPPO R9s NaN NaN NaN  NaN  NaN   \n",
       "2       小桃红柳绿  2.149115e+09  04月12日 22:59        华为P8 NaN NaN NaN  NaN  NaN   \n",
       "3     苹果柠檬刮油汤  2.635392e+09  04月12日 22:59  Android客户端 NaN NaN NaN  NaN  NaN   \n",
       "4    陳毅YiChen  2.389546e+09  04月12日 22:59  小米5s 拍照黑科技 NaN NaN NaN  NaN  NaN   \n",
       "\n",
       "                标签                                                 内容  \n",
       "0  #日本核废水可致癌致畸致突变#  联合国呢？这么大的事都不发声的吗？我天虽然我不是医学生，但是切尔诺贝利纪录片看得我毛骨悚然，...  \n",
       "1  #日本核废水可致癌致畸致突变#  日本核废水一旦排入太平洋中危害有多大,以后海鲜还有人敢吃吗?“哥斯拉”会因此出现吗？ ￼mo...  \n",
       "2  #日本核废水可致癌致畸致突变#  【专家：】4月9日，日本政府基本决定将福岛核污水排入大海。12日，日本首相菅义伟表示，解决东...  \n",
       "3  #日本核废水可致癌致畸致突变#  今日日本首相菅义伟再次表示，福岛核污水排入大海已经不能推迟了德国的海洋科学研究机构的计算显示...  \n",
       "4  #日本核废水可致癌致畸致突变#  【专家：】4月9日，日本政府基本决定将福岛核污水排入大海。12日，日本首相菅义伟表示，解决东...  "
      ]
     },
     "execution_count": 556,
     "metadata": {},
     "output_type": "execute_result"
    }
   ],
   "source": [
    "df = pd.read_csv('../data/Weibo/weibo.csv')\n",
    "df.to_csv(\"../data/Weibo/weibo.csv\",index=False,sep=',', encoding='utf-8')\n",
    "df = pd.read_csv('../data/Weibo/weibo.csv')\n",
    "df.head()\n"
   ]
  },
  {
   "cell_type": "code",
   "execution_count": 530,
   "metadata": {},
   "outputs": [],
   "source": [
    "\n",
    "# Weibo = df.loc[0:4525] \n",
    "# # df1.drop(columns=[\"内容\"], inplace = True)\n",
    "# # df1.rename(columns={'博主,id,时间,来源,收藏,转发,评论,点赞,艾特,标签,内容\\r':'内容'\n",
    "# #                                }, inplace = True)\n",
    "# # Weibo = pd.concat([df1,df2])\n",
    "# Weibo.shape\n",
    "# Weibo.drop(columns=['博主,id,时间,来源,收藏,转发,评论,点赞,艾特,标签,内容\\r'], inplace = True)\n",
    "# Weibo.to_csv(\"../data/Weibo/weibo.csv\",index=False,sep=',', encoding='utf-8')"
   ]
  },
  {
   "cell_type": "code",
   "execution_count": null,
   "metadata": {},
   "outputs": [],
   "source": [
    "from snownlp import SnowNLP\n",
    "import codecs\n",
    "import os"
   ]
  },
  {
   "cell_type": "code",
   "execution_count": 557,
   "metadata": {},
   "outputs": [],
   "source": [
    "WeiboText = []\n",
    "for index,row in df.iterrows():\n",
    "    df1 = df['内容'].tolist()[index]\n",
    "    WeiboText.append(df1)"
   ]
  },
  {
   "cell_type": "code",
   "execution_count": 558,
   "metadata": {},
   "outputs": [],
   "source": [
    "# f = open('WeiboText.txt', 'w')\n",
    "# print(WeiboText , file = f)\n",
    "# f.close()\n",
    "# source = pd.read_csv('../data/Weibo/weibo.csv',low_memory=False)\n",
    "line = WeiboText\n"
   ]
  },
  {
   "cell_type": "markdown",
   "metadata": {},
   "source": [
    "### 每条微博的情感分析"
   ]
  },
  {
   "cell_type": "code",
   "execution_count": 585,
   "metadata": {},
   "outputs": [
    {
     "name": "stdout",
     "output_type": "stream",
     "text": [
      "0.8582180435048952\n"
     ]
    },
    {
     "data": {
      "image/png": "[encoded data removed]",
      "text/plain": [
       "<Figure size 432x288 with 1 Axes>"
      ]
     },
     "metadata": {
      "needs_background": "light"
     },
     "output_type": "display_data"
    },
    {
     "data": {
      "text/plain": [
       "<Figure size 432x288 with 0 Axes>"
      ]
     },
     "metadata": {},
     "output_type": "display_data"
    }
   ],
   "source": [
    "source = open(\"WeiboText.txt\",\"r\", encoding='utf-8')\n",
    "line = source.readlines()\n",
    "\n",
    "sentimentslist = []\n",
    "for i in line:\n",
    "    s = SnowNLP(i)\n",
    "    print(s.sentiments)\n",
    "    sentimentslist.append(s.sentiments)\n",
    "\n",
    "import matplotlib.pyplot as plt\n",
    "import numpy as np\n",
    "plt.hist(sentimentslist, bins = np.arange(0, 1, 0.01), facecolor = 'g')\n",
    "plt.xlabel('Sentiments Probability')\n",
    "plt.ylabel('Quantity')\n",
    "plt.title('Analysis of Sentiments')\n",
    "plt.show()\n",
    "plt.savefig(\"WeiboSentiment.png\")"
   ]
  }
 ],
 "metadata": {
  "kernelspec": {
   "display_name": "Python 3",
   "language": "python",
   "name": "python3"
  },
  "language_info": {
   "codemirror_mode": {
    "name": "ipython",
    "version": 3
   },
   "file_extension": ".py",
   "mimetype": "text/x-python",
   "name": "python",
   "nbconvert_exporter": "python",
   "pygments_lexer": "ipython3",
   "version": "3.8.3"
  }
 },
 "nbformat": 4,
 "nbformat_minor": 4
}
