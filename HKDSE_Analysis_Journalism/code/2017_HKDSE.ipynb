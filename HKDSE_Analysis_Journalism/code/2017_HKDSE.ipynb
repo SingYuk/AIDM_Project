{
 "cells": [
  {
   "cell_type": "markdown",
   "metadata": {},
   "source": [
    "# AIDM7330 Exploratory Data Visualization Individual Assignment\n",
    "- Student name: CHIU Sing Yuk\n",
    "- Student Number: 2043105\n",
    "\n",
    "- The data is collected and downloaded from HK Government Open data: https://data.gov.hk/en-datasets/format/csv?order=name&file-content=no"
   ]
  },
  {
   "cell_type": "markdown",
   "metadata": {},
   "source": [
    "## Import data "
   ]
  },
  {
   "cell_type": "code",
   "execution_count": 1,
   "metadata": {},
   "outputs": [],
   "source": [
    "#important command to display IMMEDIATELY your plots\n",
    "%matplotlib inline\n",
    "import pandas as pd \n",
    "import numpy as np\n",
    "import matplotlib.pyplot as plt\n",
    "\n",
    "dseminder = pd.read_csv('../data/' + '2017_HKDSE_analysis_of_results_of_candidates_table5a_en.csv')"
   ]
  },
  {
   "cell_type": "markdown",
   "metadata": {},
   "source": [
    "## The structure of dataset and the data types\n",
    "- use these function we can briefly get knowledge of the info of data. For example how much columuns and rows the data has and are there some null values in the data. By the simple overview of the data, we can roughly know how to operate it more efficiently."
   ]
  },
  {
   "cell_type": "code",
   "execution_count": null,
   "metadata": {},
   "outputs": [],
   "source": [
    "dseminder.head()#show first five row of the table"
   ]
  },
  {
   "cell_type": "code",
   "execution_count": null,
   "metadata": {},
   "outputs": [],
   "source": [
    "dseminder.shape # show the dim of the table "
   ]
  },
  {
   "cell_type": "code",
   "execution_count": null,
   "metadata": {},
   "outputs": [],
   "source": [
    "dseminder.index # show the index of the table "
   ]
  },
  {
   "cell_type": "code",
   "execution_count": null,
   "metadata": {},
   "outputs": [],
   "source": [
    "dseminder.columns # show the name of the head of columns"
   ]
  },
  {
   "cell_type": "code",
   "execution_count": null,
   "metadata": {},
   "outputs": [],
   "source": [
    "dseminder.describe()"
   ]
  },
  {
   "cell_type": "code",
   "execution_count": null,
   "metadata": {},
   "outputs": [],
   "source": [
    "dseminder.info() # show infomation of the table including null and data type."
   ]
  },
  {
   "cell_type": "markdown",
   "metadata": {},
   "source": [
    "## To compare the difference of the five performance degree between male and female student in a overview"
   ]
  },
  {
   "cell_type": "markdown",
   "metadata": {},
   "source": [
    "###  to extract the performance information about the total number of male students\n",
    "- clean the csv data: retain the row containing number type and the row including gender male or female\n",
    "- then select the rows only that contain total number of male students\n",
    "- create a list to reserve the number of male students under each performance condition."
   ]
  },
  {
   "cell_type": "code",
   "execution_count": 2,
   "metadata": {},
   "outputs": [
    {
     "data": {
      "text/html": [
       "<div>\n",
       "<style scoped>\n",
       "    .dataframe tbody tr th:only-of-type {\n",
       "        vertical-align: middle;\n",
       "    }\n",
       "\n",
       "    .dataframe tbody tr th {\n",
       "        vertical-align: top;\n",
       "    }\n",
       "\n",
       "    .dataframe thead th {\n",
       "        text-align: right;\n",
       "    }\n",
       "</style>\n",
       "<table border=\"1\" class=\"dataframe\">\n",
       "  <thead>\n",
       "    <tr style=\"text-align: right;\">\n",
       "      <th></th>\n",
       "      <th>Performance</th>\n",
       "      <th>Num_of_Male_Student</th>\n",
       "    </tr>\n",
       "  </thead>\n",
       "  <tbody>\n",
       "    <tr>\n",
       "      <th>0</th>\n",
       "      <td>Performance -  5**</td>\n",
       "      <td>2043</td>\n",
       "    </tr>\n",
       "    <tr>\n",
       "      <th>1</th>\n",
       "      <td>Performance -  5*</td>\n",
       "      <td>7468</td>\n",
       "    </tr>\n",
       "    <tr>\n",
       "      <th>2</th>\n",
       "      <td>Performance -  5+</td>\n",
       "      <td>17821</td>\n",
       "    </tr>\n",
       "    <tr>\n",
       "      <th>3</th>\n",
       "      <td>Performance -  4+</td>\n",
       "      <td>47421</td>\n",
       "    </tr>\n",
       "    <tr>\n",
       "      <th>4</th>\n",
       "      <td>Performance -  3+</td>\n",
       "      <td>83930</td>\n",
       "    </tr>\n",
       "    <tr>\n",
       "      <th>5</th>\n",
       "      <td>Performance -  2+</td>\n",
       "      <td>122022</td>\n",
       "    </tr>\n",
       "    <tr>\n",
       "      <th>6</th>\n",
       "      <td>Performance -  1+</td>\n",
       "      <td>140956</td>\n",
       "    </tr>\n",
       "    <tr>\n",
       "      <th>7</th>\n",
       "      <td>Performance -  U</td>\n",
       "      <td>9157</td>\n",
       "    </tr>\n",
       "  </tbody>\n",
       "</table>\n",
       "</div>"
      ],
      "text/plain": [
       "          Performance  Num_of_Male_Student\n",
       "0  Performance -  5**                 2043\n",
       "1   Performance -  5*                 7468\n",
       "2   Performance -  5+                17821\n",
       "3   Performance -  4+                47421\n",
       "4   Performance -  3+                83930\n",
       "5   Performance -  2+               122022\n",
       "6   Performance -  1+               140956\n",
       "7    Performance -  U                 9157"
      ]
     },
     "execution_count": 2,
     "metadata": {},
     "output_type": "execute_result"
    }
   ],
   "source": [
    "dmf = dseminder[(dseminder['Type']=='Number') & ((dseminder['Gender'] == 'Male')|(dseminder['Gender']=='Female'))]\n",
    "dmfAM = dmf[(dmf['Subject']=='All Category A subjects') & (dmf['Gender']=='Male')]\n",
    "names = ['Performance -  5**','Performance -  5*','Performance -  5+','Performance -  4+','Performance -  3+','Performance -  2+','Performance -  1+','Performance -  U']\n",
    "valuesAM = list()\n",
    "valuesAM.append(dmfAM['Performance -  5**'])\n",
    "valuesAM.append(dmfAM['Performance -  5*'])\n",
    "valuesAM.append(dmfAM['Performance -  5+'])\n",
    "valuesAM.append(dmfAM['Performance -  4+'])\n",
    "valuesAM.append(dmfAM['Performance -  3+'])\n",
    "valuesAM.append(dmfAM['Performance -  2+'])\n",
    "valuesAM.append(dmfAM['Performance -  1+'])\n",
    "valuesAM.append(dmfAM['Performance -  U'])\n",
    "valuesAM = list(map(int, valuesAM))\n",
    "\n",
    "# show the dataframe of the performance of  male students.\n",
    "dfM = {\n",
    "    'Performance':names,\n",
    "    'Num_of_Male_Student':valuesAM\n",
    "}\n",
    "pd.DataFrame(dfM)\n"
   ]
  },
  {
   "cell_type": "markdown",
   "metadata": {},
   "source": [
    "###  to extract the performance information about the total number of female students\n",
    "- then select the rows only that contain total number of male students\n",
    "- create a list to reserve the number of male students under each performance condition."
   ]
  },
  {
   "cell_type": "code",
   "execution_count": 3,
   "metadata": {},
   "outputs": [
    {
     "data": {
      "text/html": [
       "<div>\n",
       "<style scoped>\n",
       "    .dataframe tbody tr th:only-of-type {\n",
       "        vertical-align: middle;\n",
       "    }\n",
       "\n",
       "    .dataframe tbody tr th {\n",
       "        vertical-align: top;\n",
       "    }\n",
       "\n",
       "    .dataframe thead th {\n",
       "        text-align: right;\n",
       "    }\n",
       "</style>\n",
       "<table border=\"1\" class=\"dataframe\">\n",
       "  <thead>\n",
       "    <tr style=\"text-align: right;\">\n",
       "      <th></th>\n",
       "      <th>Performance</th>\n",
       "      <th>Num_of_Female_Student</th>\n",
       "    </tr>\n",
       "  </thead>\n",
       "  <tbody>\n",
       "    <tr>\n",
       "      <th>0</th>\n",
       "      <td>Perfrmance -  5**</td>\n",
       "      <td>1882</td>\n",
       "    </tr>\n",
       "    <tr>\n",
       "      <th>1</th>\n",
       "      <td>Performance -  5*</td>\n",
       "      <td>7906</td>\n",
       "    </tr>\n",
       "    <tr>\n",
       "      <th>2</th>\n",
       "      <td>Performance -  5+</td>\n",
       "      <td>20355</td>\n",
       "    </tr>\n",
       "    <tr>\n",
       "      <th>3</th>\n",
       "      <td>Performance -  4+</td>\n",
       "      <td>59773</td>\n",
       "    </tr>\n",
       "    <tr>\n",
       "      <th>4</th>\n",
       "      <td>Performance -  3+</td>\n",
       "      <td>100438</td>\n",
       "    </tr>\n",
       "    <tr>\n",
       "      <th>5</th>\n",
       "      <td>Performance -  2+</td>\n",
       "      <td>132661</td>\n",
       "    </tr>\n",
       "    <tr>\n",
       "      <th>6</th>\n",
       "      <td>Performance -  1+</td>\n",
       "      <td>145447</td>\n",
       "    </tr>\n",
       "    <tr>\n",
       "      <th>7</th>\n",
       "      <td>Performance -  U</td>\n",
       "      <td>5080</td>\n",
       "    </tr>\n",
       "  </tbody>\n",
       "</table>\n",
       "</div>"
      ],
      "text/plain": [
       "         Performance  Num_of_Female_Student\n",
       "0  Perfrmance -  5**                   1882\n",
       "1  Performance -  5*                   7906\n",
       "2  Performance -  5+                  20355\n",
       "3  Performance -  4+                  59773\n",
       "4  Performance -  3+                 100438\n",
       "5  Performance -  2+                 132661\n",
       "6  Performance -  1+                 145447\n",
       "7   Performance -  U                   5080"
      ]
     },
     "execution_count": 3,
     "metadata": {},
     "output_type": "execute_result"
    }
   ],
   "source": [
    "dmfAF = dmf[(dmf['Subject']=='All Category A subjects') & (dmf['Gender']=='Female')]\n",
    "dmfAF.fillna(0)\n",
    "names = ['Perfrmance -  5**','Performance -  5*','Performance -  5+','Performance -  4+','Performance -  3+','Performance -  2+','Performance -  1+','Performance -  U']\n",
    "valuesAF = list()\n",
    "valuesAF.append(dmfAF['Performance -  5**'])\n",
    "valuesAF.append(dmfAF['Performance -  5*'])\n",
    "valuesAF.append(dmfAF['Performance -  5+'])\n",
    "valuesAF.append(dmfAF['Performance -  4+'])\n",
    "valuesAF.append(dmfAF['Performance -  3+'])\n",
    "valuesAF.append(dmfAF['Performance -  2+'])\n",
    "valuesAF.append(dmfAF['Performance -  1+'])\n",
    "valuesAF.append(dmfAF['Performance -  U'])\n",
    "valuesAF = list(map(int, valuesAF))\n",
    "\n",
    "dfF = {\n",
    "    'Performance':names,\n",
    "    'Num_of_Female_Student':valuesAF\n",
    "}\n",
    "pd.DataFrame(dfF)"
   ]
  },
  {
   "cell_type": "markdown",
   "metadata": {},
   "source": [
    "### Visualization of above two dataframes in a bar chart, to see the similarity, difference and trend of the performance about male and female students.\n",
    "- Above I have sorted data out as what I want it to be and then I need to make it visualized. So by using matplotlib I can make the dataframe into visualization which helps readers to understand it easier."
   ]
  },
  {
   "cell_type": "code",
   "execution_count": 6,
   "metadata": {},
   "outputs": [
    {
     "data": {
      "image/png": "[encoded data removed]",
      "text/plain": [
       "<Figure size 1080x360 with 1 Axes>"
      ]
     },
     "metadata": {
      "needs_background": "light"
     },
     "output_type": "display_data"
    }
   ],
   "source": [
    "names = ['Performance -  5**','Performance -  5*','Performance -  5+','Performance -  4+','Performance -  3+','Performance -  2+','Performance -  1+','Performance -  U']\n",
    "\n",
    "x = np.arange(len(names))  # the label locations\n",
    "width = 0.35  # the width of the bars\n",
    "\n",
    "fig, ax = plt.subplots(figsize=(15, 5))\n",
    "\n",
    "rects1 = ax.bar(x - width/2, valuesAM, width, label='Male Students')\n",
    "rects2 = ax.bar(x + width/2, valuesAF, width, label='Female Studetns')\n",
    "\n",
    "# Add some text for labels, title and custom x-axis tick labels, etc.\n",
    "ax.set_ylabel('The number of students')\n",
    "ax.set_title('The performance of male and female students in a total number')\n",
    "ax.set_xticks(x)\n",
    "ax.set_xticklabels(names)\n",
    "ax.legend()\n",
    "\n",
    "\n",
    "def autolabel(rects):\n",
    "    \"\"\"Attach a text label above each bar in *rects*, displaying its height.\"\"\"\n",
    "    for rect in rects:\n",
    "        height = rect.get_height()\n",
    "        ax.annotate('{}'.format(height),\n",
    "                    xy=(rect.get_x() + rect.get_width() / 2, height),\n",
    "                    xytext=(0, 3),  # 3 points vertical offset\n",
    "                    textcoords=\"offset points\",\n",
    "                    ha='center', va='bottom')\n",
    "\n",
    "autolabel(rects1)\n",
    "autolabel(rects2)\n",
    "\n",
    "fig.tight_layout()\n",
    "\n",
    "plt.show()"
   ]
  },
  {
   "cell_type": "markdown",
   "metadata": {},
   "source": [
    "## A deeper analysis of male and female students in each performance degree, to see the similarity and difference between them."
   ]
  },
  {
   "cell_type": "code",
   "execution_count": 7,
   "metadata": {},
   "outputs": [],
   "source": [
    "import seaborn as sns\n",
    "# Set the aesthetic style of the plots\n",
    "sns.set_style('whitegrid')"
   ]
  },
  {
   "cell_type": "markdown",
   "metadata": {},
   "source": [
    "#### Generate a new data wich limitation that 'Type' = 'Number', 'Gender' = 'Male' and 'Gender' = 'Female'"
   ]
  },
  {
   "cell_type": "code",
   "execution_count": 8,
   "metadata": {},
   "outputs": [],
   "source": [
    "dmf = dseminder[(dseminder['Type']=='Number') & ((dseminder['Gender'] == 'Male')|(dseminder['Gender']=='Female'))].drop(index = [210, 212])\n"
   ]
  },
  {
   "cell_type": "markdown",
   "metadata": {},
   "source": [
    "- Visualize the data to see the performance 5 ** condition of male and female students, especially when the numbers of students bigger than 500."
   ]
  },
  {
   "cell_type": "code",
   "execution_count": 11,
   "metadata": {},
   "outputs": [
    {
     "data": {
      "text/html": [
       "<div>\n",
       "<style scoped>\n",
       "    .dataframe tbody tr th:only-of-type {\n",
       "        vertical-align: middle;\n",
       "    }\n",
       "\n",
       "    .dataframe tbody tr th {\n",
       "        vertical-align: top;\n",
       "    }\n",
       "\n",
       "    .dataframe thead th {\n",
       "        text-align: right;\n",
       "    }\n",
       "</style>\n",
       "<table border=\"1\" class=\"dataframe\">\n",
       "  <thead>\n",
       "    <tr style=\"text-align: right;\">\n",
       "      <th></th>\n",
       "      <th>Subject</th>\n",
       "      <th>Subject_2</th>\n",
       "      <th>Gender</th>\n",
       "      <th>Performance -  5**</th>\n",
       "    </tr>\n",
       "  </thead>\n",
       "  <tbody>\n",
       "    <tr>\n",
       "      <th>32</th>\n",
       "      <td>Chinese Language</td>\n",
       "      <td>NaN</td>\n",
       "      <td>Female</td>\n",
       "      <td>334</td>\n",
       "    </tr>\n",
       "    <tr>\n",
       "      <th>56</th>\n",
       "      <td>English Language</td>\n",
       "      <td>NaN</td>\n",
       "      <td>Female</td>\n",
       "      <td>325</td>\n",
       "    </tr>\n",
       "    <tr>\n",
       "      <th>92</th>\n",
       "      <td>Liberal Studies</td>\n",
       "      <td>NaN</td>\n",
       "      <td>Female</td>\n",
       "      <td>319</td>\n",
       "    </tr>\n",
       "    <tr>\n",
       "      <th>102</th>\n",
       "      <td>Mathematics</td>\n",
       "      <td>Compulsory Part</td>\n",
       "      <td>Male</td>\n",
       "      <td>550</td>\n",
       "    </tr>\n",
       "  </tbody>\n",
       "</table>\n",
       "</div>"
      ],
      "text/plain": [
       "              Subject        Subject_2  Gender  Performance -  5**\n",
       "32   Chinese Language              NaN  Female                 334\n",
       "56   English Language              NaN  Female                 325\n",
       "92    Liberal Studies              NaN  Female                 319\n",
       "102       Mathematics  Compulsory Part    Male                 550"
      ]
     },
     "execution_count": 11,
     "metadata": {},
     "output_type": "execute_result"
    },
    {
     "data": {
      "image/png": "[encoded data removed]",
      "text/plain": [
       "<Figure size 720x360 with 1 Axes>"
      ]
     },
     "metadata": {},
     "output_type": "display_data"
    }
   ],
   "source": [
    "dmf['Performance -  5**']=dmf['Performance -  5**'].astype('int')\n",
    "plt.figure(figsize=(10, 5))\n",
    "sns.swarmplot(x=\"Performance -  5**\", y=\"Gender\", data=dmf, palette='Set2');\n",
    "#show the name of subject, subject_2, gender and performance degree about students based on visualization.\n",
    "plt.title('Student performance in 5**')\n",
    "dmf[dmf['Performance -  5**'] > 300][['Subject', 'Subject_2', 'Gender', 'Performance -  5**']]\n"
   ]
  },
  {
   "cell_type": "markdown",
   "metadata": {},
   "source": [
    "- Visualize the data to see the performance 5 * condition of male and female students, especially when the numbers of students bigger than 1000."
   ]
  },
  {
   "cell_type": "code",
   "execution_count": 12,
   "metadata": {},
   "outputs": [
    {
     "data": {
      "text/html": [
       "<div>\n",
       "<style scoped>\n",
       "    .dataframe tbody tr th:only-of-type {\n",
       "        vertical-align: middle;\n",
       "    }\n",
       "\n",
       "    .dataframe tbody tr th {\n",
       "        vertical-align: top;\n",
       "    }\n",
       "\n",
       "    .dataframe thead th {\n",
       "        text-align: right;\n",
       "    }\n",
       "</style>\n",
       "<table border=\"1\" class=\"dataframe\">\n",
       "  <thead>\n",
       "    <tr style=\"text-align: right;\">\n",
       "      <th></th>\n",
       "      <th>Subject</th>\n",
       "      <th>Subject_2</th>\n",
       "      <th>Gender</th>\n",
       "      <th>Performance -  5*</th>\n",
       "    </tr>\n",
       "  </thead>\n",
       "  <tbody>\n",
       "    <tr>\n",
       "      <th>32</th>\n",
       "      <td>Chinese Language</td>\n",
       "      <td>NaN</td>\n",
       "      <td>Female</td>\n",
       "      <td>1254</td>\n",
       "    </tr>\n",
       "    <tr>\n",
       "      <th>56</th>\n",
       "      <td>English Language</td>\n",
       "      <td>NaN</td>\n",
       "      <td>Female</td>\n",
       "      <td>1324</td>\n",
       "    </tr>\n",
       "    <tr>\n",
       "      <th>92</th>\n",
       "      <td>Liberal Studies</td>\n",
       "      <td>NaN</td>\n",
       "      <td>Female</td>\n",
       "      <td>1228</td>\n",
       "    </tr>\n",
       "    <tr>\n",
       "      <th>102</th>\n",
       "      <td>Mathematics</td>\n",
       "      <td>Compulsory Part</td>\n",
       "      <td>Male</td>\n",
       "      <td>1898</td>\n",
       "    </tr>\n",
       "  </tbody>\n",
       "</table>\n",
       "</div>"
      ],
      "text/plain": [
       "              Subject        Subject_2  Gender  Performance -  5*\n",
       "32   Chinese Language              NaN  Female               1254\n",
       "56   English Language              NaN  Female               1324\n",
       "92    Liberal Studies              NaN  Female               1228\n",
       "102       Mathematics  Compulsory Part    Male               1898"
      ]
     },
     "execution_count": 12,
     "metadata": {},
     "output_type": "execute_result"
    },
    {
     "data": {
      "image/png": "[encoded data removed]",
      "text/plain": [
       "<Figure size 720x360 with 1 Axes>"
      ]
     },
     "metadata": {},
     "output_type": "display_data"
    }
   ],
   "source": [
    "dmf['Performance -  5*']=dmf['Performance -  5*'].astype('int')\n",
    "dmfCopy = dmf.copy()\n",
    "plt.figure(figsize=(10, 5))\n",
    "sns.swarmplot(x=\"Performance -  5*\", y=\"Gender\", data=dmf, palette='Set2');\n",
    "plt.title('Student performance in 5*')\n",
    "dmf[dmf['Performance -  5*'] > 1000][['Subject', 'Subject_2', 'Gender', 'Performance -  5*']]\n"
   ]
  },
  {
   "cell_type": "markdown",
   "metadata": {},
   "source": [
    "- Visualize the data to see the Performance -  5+ condition of male and female students, especially when the numbers of students bigger than 3000."
   ]
  },
  {
   "cell_type": "code",
   "execution_count": 13,
   "metadata": {},
   "outputs": [
    {
     "data": {
      "text/html": [
       "<div>\n",
       "<style scoped>\n",
       "    .dataframe tbody tr th:only-of-type {\n",
       "        vertical-align: middle;\n",
       "    }\n",
       "\n",
       "    .dataframe tbody tr th {\n",
       "        vertical-align: top;\n",
       "    }\n",
       "\n",
       "    .dataframe thead th {\n",
       "        text-align: right;\n",
       "    }\n",
       "</style>\n",
       "<table border=\"1\" class=\"dataframe\">\n",
       "  <thead>\n",
       "    <tr style=\"text-align: right;\">\n",
       "      <th></th>\n",
       "      <th>Subject</th>\n",
       "      <th>Subject_2</th>\n",
       "      <th>Gender</th>\n",
       "      <th>Performance -  5+</th>\n",
       "    </tr>\n",
       "  </thead>\n",
       "  <tbody>\n",
       "    <tr>\n",
       "      <th>32</th>\n",
       "      <td>Chinese Language</td>\n",
       "      <td>NaN</td>\n",
       "      <td>Female</td>\n",
       "      <td>3201</td>\n",
       "    </tr>\n",
       "    <tr>\n",
       "      <th>56</th>\n",
       "      <td>English Language</td>\n",
       "      <td>NaN</td>\n",
       "      <td>Female</td>\n",
       "      <td>3116</td>\n",
       "    </tr>\n",
       "    <tr>\n",
       "      <th>92</th>\n",
       "      <td>Liberal Studies</td>\n",
       "      <td>NaN</td>\n",
       "      <td>Female</td>\n",
       "      <td>3069</td>\n",
       "    </tr>\n",
       "    <tr>\n",
       "      <th>102</th>\n",
       "      <td>Mathematics</td>\n",
       "      <td>Compulsory Part</td>\n",
       "      <td>Male</td>\n",
       "      <td>4367</td>\n",
       "    </tr>\n",
       "  </tbody>\n",
       "</table>\n",
       "</div>"
      ],
      "text/plain": [
       "              Subject        Subject_2  Gender  Performance -  5+\n",
       "32   Chinese Language              NaN  Female               3201\n",
       "56   English Language              NaN  Female               3116\n",
       "92    Liberal Studies              NaN  Female               3069\n",
       "102       Mathematics  Compulsory Part    Male               4367"
      ]
     },
     "execution_count": 13,
     "metadata": {},
     "output_type": "execute_result"
    },
    {
     "data": {
      "image/png": "[encoded data removed]",
      "text/plain": [
       "<Figure size 720x360 with 1 Axes>"
      ]
     },
     "metadata": {},
     "output_type": "display_data"
    }
   ],
   "source": [
    "dmf['Performance -  5+']=dmf['Performance -  5+'].astype('int')\n",
    "plt.figure(figsize=(10, 5))\n",
    "sns.swarmplot(x=\"Performance -  5+\", y=\"Gender\", data=dmf, palette='Set2');\n",
    "plt.title('Student performance in 5+')\n",
    "dmf[dmf['Performance -  5+'] > 3000][['Subject', 'Subject_2', 'Gender', 'Performance -  5+']]\n"
   ]
  },
  {
   "cell_type": "markdown",
   "metadata": {},
   "source": [
    "- Visualize the data to see the Performance -  4+ condition of male and female students, especially when the numbers of students bigger than 8000."
   ]
  },
  {
   "cell_type": "code",
   "execution_count": 14,
   "metadata": {},
   "outputs": [
    {
     "data": {
      "text/html": [
       "<div>\n",
       "<style scoped>\n",
       "    .dataframe tbody tr th:only-of-type {\n",
       "        vertical-align: middle;\n",
       "    }\n",
       "\n",
       "    .dataframe tbody tr th {\n",
       "        vertical-align: top;\n",
       "    }\n",
       "\n",
       "    .dataframe thead th {\n",
       "        text-align: right;\n",
       "    }\n",
       "</style>\n",
       "<table border=\"1\" class=\"dataframe\">\n",
       "  <thead>\n",
       "    <tr style=\"text-align: right;\">\n",
       "      <th></th>\n",
       "      <th>Subject</th>\n",
       "      <th>Subject_2</th>\n",
       "      <th>Gender</th>\n",
       "      <th>Performance -  4+</th>\n",
       "    </tr>\n",
       "  </thead>\n",
       "  <tbody>\n",
       "    <tr>\n",
       "      <th>32</th>\n",
       "      <td>Chinese Language</td>\n",
       "      <td>NaN</td>\n",
       "      <td>Female</td>\n",
       "      <td>9064</td>\n",
       "    </tr>\n",
       "    <tr>\n",
       "      <th>56</th>\n",
       "      <td>English Language</td>\n",
       "      <td>NaN</td>\n",
       "      <td>Female</td>\n",
       "      <td>8141</td>\n",
       "    </tr>\n",
       "    <tr>\n",
       "      <th>92</th>\n",
       "      <td>Liberal Studies</td>\n",
       "      <td>NaN</td>\n",
       "      <td>Female</td>\n",
       "      <td>11415</td>\n",
       "    </tr>\n",
       "    <tr>\n",
       "      <th>102</th>\n",
       "      <td>Mathematics</td>\n",
       "      <td>Compulsory Part</td>\n",
       "      <td>Male</td>\n",
       "      <td>10201</td>\n",
       "    </tr>\n",
       "    <tr>\n",
       "      <th>104</th>\n",
       "      <td>Mathematics</td>\n",
       "      <td>Compulsory Part</td>\n",
       "      <td>Female</td>\n",
       "      <td>9472</td>\n",
       "    </tr>\n",
       "  </tbody>\n",
       "</table>\n",
       "</div>"
      ],
      "text/plain": [
       "              Subject        Subject_2  Gender  Performance -  4+\n",
       "32   Chinese Language              NaN  Female               9064\n",
       "56   English Language              NaN  Female               8141\n",
       "92    Liberal Studies              NaN  Female              11415\n",
       "102       Mathematics  Compulsory Part    Male              10201\n",
       "104       Mathematics  Compulsory Part  Female               9472"
      ]
     },
     "execution_count": 14,
     "metadata": {},
     "output_type": "execute_result"
    },
    {
     "data": {
      "image/png": "[encoded data removed]",
      "text/plain": [
       "<Figure size 720x360 with 1 Axes>"
      ]
     },
     "metadata": {},
     "output_type": "display_data"
    }
   ],
   "source": [
    "dmf['Performance -  4+']=dmf['Performance -  4+'].astype('int')\n",
    "plt.figure(figsize=(10, 5))\n",
    "sns.swarmplot(x=\"Performance -  4+\", y=\"Gender\", data=dmf, palette='Set2');\n",
    "plt.title('Student performance in 4+')\n",
    "dmf[dmf['Performance -  4+'] > 8000][['Subject', 'Subject_2', 'Gender', 'Performance -  4+']]\n"
   ]
  },
  {
   "cell_type": "markdown",
   "metadata": {},
   "source": [
    "- Visualize the data to see the Performance -  3+ condition of male and female students, especially when the numbers of students bigger than 12500."
   ]
  },
  {
   "cell_type": "code",
   "execution_count": 15,
   "metadata": {},
   "outputs": [
    {
     "data": {
      "text/html": [
       "<div>\n",
       "<style scoped>\n",
       "    .dataframe tbody tr th:only-of-type {\n",
       "        vertical-align: middle;\n",
       "    }\n",
       "\n",
       "    .dataframe tbody tr th {\n",
       "        vertical-align: top;\n",
       "    }\n",
       "\n",
       "    .dataframe thead th {\n",
       "        text-align: right;\n",
       "    }\n",
       "</style>\n",
       "<table border=\"1\" class=\"dataframe\">\n",
       "  <thead>\n",
       "    <tr style=\"text-align: right;\">\n",
       "      <th></th>\n",
       "      <th>Subject</th>\n",
       "      <th>Subject_2</th>\n",
       "      <th>Gender</th>\n",
       "      <th>Performance -  3+</th>\n",
       "    </tr>\n",
       "  </thead>\n",
       "  <tbody>\n",
       "    <tr>\n",
       "      <th>32</th>\n",
       "      <td>Chinese Language</td>\n",
       "      <td>NaN</td>\n",
       "      <td>Female</td>\n",
       "      <td>16471</td>\n",
       "    </tr>\n",
       "    <tr>\n",
       "      <th>56</th>\n",
       "      <td>English Language</td>\n",
       "      <td>NaN</td>\n",
       "      <td>Female</td>\n",
       "      <td>14694</td>\n",
       "    </tr>\n",
       "    <tr>\n",
       "      <th>90</th>\n",
       "      <td>Liberal Studies</td>\n",
       "      <td>NaN</td>\n",
       "      <td>Male</td>\n",
       "      <td>14988</td>\n",
       "    </tr>\n",
       "    <tr>\n",
       "      <th>92</th>\n",
       "      <td>Liberal Studies</td>\n",
       "      <td>NaN</td>\n",
       "      <td>Female</td>\n",
       "      <td>19191</td>\n",
       "    </tr>\n",
       "    <tr>\n",
       "      <th>102</th>\n",
       "      <td>Mathematics</td>\n",
       "      <td>Compulsory Part</td>\n",
       "      <td>Male</td>\n",
       "      <td>14741</td>\n",
       "    </tr>\n",
       "    <tr>\n",
       "      <th>104</th>\n",
       "      <td>Mathematics</td>\n",
       "      <td>Compulsory Part</td>\n",
       "      <td>Female</td>\n",
       "      <td>14939</td>\n",
       "    </tr>\n",
       "  </tbody>\n",
       "</table>\n",
       "</div>"
      ],
      "text/plain": [
       "              Subject        Subject_2  Gender  Performance -  3+\n",
       "32   Chinese Language              NaN  Female              16471\n",
       "56   English Language              NaN  Female              14694\n",
       "90    Liberal Studies              NaN    Male              14988\n",
       "92    Liberal Studies              NaN  Female              19191\n",
       "102       Mathematics  Compulsory Part    Male              14741\n",
       "104       Mathematics  Compulsory Part  Female              14939"
      ]
     },
     "execution_count": 15,
     "metadata": {},
     "output_type": "execute_result"
    },
    {
     "data": {
      "image/png": "[encoded data removed]",
      "text/plain": [
       "<Figure size 720x360 with 1 Axes>"
      ]
     },
     "metadata": {},
     "output_type": "display_data"
    }
   ],
   "source": [
    "dmf['Performance -  3+']=dmf['Performance -  3+'].astype('int')\n",
    "plt.figure(figsize=(10, 5))\n",
    "sns.swarmplot(x=\"Performance -  3+\", y=\"Gender\", data=dmf, palette='Set2');\n",
    "plt.title('Student performance in 3+')\n",
    "dmf[dmf['Performance -  3+'] > 12500][['Subject', 'Subject_2', 'Gender', 'Performance -  3+']]\n"
   ]
  },
  {
   "cell_type": "markdown",
   "metadata": {},
   "source": [
    "- Visualize the data to see the Performance -  2+ condition of male and female students, especially when the numbers of students bigger than 20000."
   ]
  },
  {
   "cell_type": "code",
   "execution_count": 16,
   "metadata": {},
   "outputs": [
    {
     "data": {
      "text/html": [
       "<div>\n",
       "<style scoped>\n",
       "    .dataframe tbody tr th:only-of-type {\n",
       "        vertical-align: middle;\n",
       "    }\n",
       "\n",
       "    .dataframe tbody tr th {\n",
       "        vertical-align: top;\n",
       "    }\n",
       "\n",
       "    .dataframe thead th {\n",
       "        text-align: right;\n",
       "    }\n",
       "</style>\n",
       "<table border=\"1\" class=\"dataframe\">\n",
       "  <thead>\n",
       "    <tr style=\"text-align: right;\">\n",
       "      <th></th>\n",
       "      <th>Subject</th>\n",
       "      <th>Subject_2</th>\n",
       "      <th>Gender</th>\n",
       "      <th>Performance -  2+</th>\n",
       "    </tr>\n",
       "  </thead>\n",
       "  <tbody>\n",
       "    <tr>\n",
       "      <th>30</th>\n",
       "      <td>Chinese Language</td>\n",
       "      <td>NaN</td>\n",
       "      <td>Male</td>\n",
       "      <td>20203</td>\n",
       "    </tr>\n",
       "    <tr>\n",
       "      <th>32</th>\n",
       "      <td>Chinese Language</td>\n",
       "      <td>NaN</td>\n",
       "      <td>Female</td>\n",
       "      <td>22746</td>\n",
       "    </tr>\n",
       "    <tr>\n",
       "      <th>56</th>\n",
       "      <td>English Language</td>\n",
       "      <td>NaN</td>\n",
       "      <td>Female</td>\n",
       "      <td>20796</td>\n",
       "    </tr>\n",
       "    <tr>\n",
       "      <th>90</th>\n",
       "      <td>Liberal Studies</td>\n",
       "      <td>NaN</td>\n",
       "      <td>Male</td>\n",
       "      <td>21834</td>\n",
       "    </tr>\n",
       "    <tr>\n",
       "      <th>92</th>\n",
       "      <td>Liberal Studies</td>\n",
       "      <td>NaN</td>\n",
       "      <td>Female</td>\n",
       "      <td>23493</td>\n",
       "    </tr>\n",
       "    <tr>\n",
       "      <th>102</th>\n",
       "      <td>Mathematics</td>\n",
       "      <td>Compulsory Part</td>\n",
       "      <td>Male</td>\n",
       "      <td>20275</td>\n",
       "    </tr>\n",
       "    <tr>\n",
       "      <th>104</th>\n",
       "      <td>Mathematics</td>\n",
       "      <td>Compulsory Part</td>\n",
       "      <td>Female</td>\n",
       "      <td>20497</td>\n",
       "    </tr>\n",
       "  </tbody>\n",
       "</table>\n",
       "</div>"
      ],
      "text/plain": [
       "              Subject        Subject_2  Gender  Performance -  2+\n",
       "30   Chinese Language              NaN    Male              20203\n",
       "32   Chinese Language              NaN  Female              22746\n",
       "56   English Language              NaN  Female              20796\n",
       "90    Liberal Studies              NaN    Male              21834\n",
       "92    Liberal Studies              NaN  Female              23493\n",
       "102       Mathematics  Compulsory Part    Male              20275\n",
       "104       Mathematics  Compulsory Part  Female              20497"
      ]
     },
     "execution_count": 16,
     "metadata": {},
     "output_type": "execute_result"
    },
    {
     "data": {
      "image/png": "[encoded data removed]",
      "text/plain": [
       "<Figure size 720x360 with 1 Axes>"
      ]
     },
     "metadata": {},
     "output_type": "display_data"
    }
   ],
   "source": [
    "dmf['Performance -  2+']=dmf['Performance -  2+'].astype('int')\n",
    "plt.figure(figsize=(10, 5))\n",
    "sns.swarmplot(x=\"Performance -  2+\", y=\"Gender\", data=dmf, palette='Set2');\n",
    "plt.title('Student performance in 2+')\n",
    "dmf[dmf['Performance -  2+'] > 20000][['Subject', 'Subject_2', 'Gender', 'Performance -  2+']]\n"
   ]
  },
  {
   "cell_type": "markdown",
   "metadata": {},
   "source": [
    "- Visualize the data to see the Performance -  1+ condition of male and female students, especially when the numbers of students bigger than 20000."
   ]
  },
  {
   "cell_type": "code",
   "execution_count": 17,
   "metadata": {},
   "outputs": [
    {
     "data": {
      "text/html": [
       "<div>\n",
       "<style scoped>\n",
       "    .dataframe tbody tr th:only-of-type {\n",
       "        vertical-align: middle;\n",
       "    }\n",
       "\n",
       "    .dataframe tbody tr th {\n",
       "        vertical-align: top;\n",
       "    }\n",
       "\n",
       "    .dataframe thead th {\n",
       "        text-align: right;\n",
       "    }\n",
       "</style>\n",
       "<table border=\"1\" class=\"dataframe\">\n",
       "  <thead>\n",
       "    <tr style=\"text-align: right;\">\n",
       "      <th></th>\n",
       "      <th>Subject</th>\n",
       "      <th>Subject_2</th>\n",
       "      <th>Gender</th>\n",
       "      <th>Performance -  1+</th>\n",
       "    </tr>\n",
       "  </thead>\n",
       "  <tbody>\n",
       "    <tr>\n",
       "      <th>30</th>\n",
       "      <td>Chinese Language</td>\n",
       "      <td>NaN</td>\n",
       "      <td>Male</td>\n",
       "      <td>24214</td>\n",
       "    </tr>\n",
       "    <tr>\n",
       "      <th>32</th>\n",
       "      <td>Chinese Language</td>\n",
       "      <td>NaN</td>\n",
       "      <td>Female</td>\n",
       "      <td>24474</td>\n",
       "    </tr>\n",
       "    <tr>\n",
       "      <th>54</th>\n",
       "      <td>English Language</td>\n",
       "      <td>NaN</td>\n",
       "      <td>Male</td>\n",
       "      <td>21918</td>\n",
       "    </tr>\n",
       "    <tr>\n",
       "      <th>56</th>\n",
       "      <td>English Language</td>\n",
       "      <td>NaN</td>\n",
       "      <td>Female</td>\n",
       "      <td>23624</td>\n",
       "    </tr>\n",
       "    <tr>\n",
       "      <th>90</th>\n",
       "      <td>Liberal Studies</td>\n",
       "      <td>NaN</td>\n",
       "      <td>Male</td>\n",
       "      <td>24864</td>\n",
       "    </tr>\n",
       "    <tr>\n",
       "      <th>92</th>\n",
       "      <td>Liberal Studies</td>\n",
       "      <td>NaN</td>\n",
       "      <td>Female</td>\n",
       "      <td>24906</td>\n",
       "    </tr>\n",
       "    <tr>\n",
       "      <th>102</th>\n",
       "      <td>Mathematics</td>\n",
       "      <td>Compulsory Part</td>\n",
       "      <td>Male</td>\n",
       "      <td>23321</td>\n",
       "    </tr>\n",
       "    <tr>\n",
       "      <th>104</th>\n",
       "      <td>Mathematics</td>\n",
       "      <td>Compulsory Part</td>\n",
       "      <td>Female</td>\n",
       "      <td>23294</td>\n",
       "    </tr>\n",
       "  </tbody>\n",
       "</table>\n",
       "</div>"
      ],
      "text/plain": [
       "              Subject        Subject_2  Gender  Performance -  1+\n",
       "30   Chinese Language              NaN    Male              24214\n",
       "32   Chinese Language              NaN  Female              24474\n",
       "54   English Language              NaN    Male              21918\n",
       "56   English Language              NaN  Female              23624\n",
       "90    Liberal Studies              NaN    Male              24864\n",
       "92    Liberal Studies              NaN  Female              24906\n",
       "102       Mathematics  Compulsory Part    Male              23321\n",
       "104       Mathematics  Compulsory Part  Female              23294"
      ]
     },
     "execution_count": 17,
     "metadata": {},
     "output_type": "execute_result"
    },
    {
     "data": {
      "image/png": "[encoded data removed]",
      "text/plain": [
       "<Figure size 720x360 with 1 Axes>"
      ]
     },
     "metadata": {},
     "output_type": "display_data"
    }
   ],
   "source": [
    "dmf['Performance -  1+']=dmf['Performance -  1+'].astype('int')\n",
    "plt.figure(figsize=(10, 5))\n",
    "sns.swarmplot(x=\"Performance -  1+\", y=\"Gender\", data=dmf, palette='Set2');\n",
    "plt.title('Student performance in 1+')\n",
    "dmf[dmf['Performance -  1+'] > 20000][['Subject', 'Subject_2', 'Gender', 'Performance -  1+']]\n"
   ]
  },
  {
   "cell_type": "markdown",
   "metadata": {},
   "source": [
    "- Visualize the data to see the Performance -  U condition of male and female students, especially when the numbers of students bigger than 3000."
   ]
  },
  {
   "cell_type": "code",
   "execution_count": 18,
   "metadata": {},
   "outputs": [
    {
     "data": {
      "text/html": [
       "<div>\n",
       "<style scoped>\n",
       "    .dataframe tbody tr th:only-of-type {\n",
       "        vertical-align: middle;\n",
       "    }\n",
       "\n",
       "    .dataframe tbody tr th {\n",
       "        vertical-align: top;\n",
       "    }\n",
       "\n",
       "    .dataframe thead th {\n",
       "        text-align: right;\n",
       "    }\n",
       "</style>\n",
       "<table border=\"1\" class=\"dataframe\">\n",
       "  <thead>\n",
       "    <tr style=\"text-align: right;\">\n",
       "      <th></th>\n",
       "      <th>Subject</th>\n",
       "      <th>Subject_2</th>\n",
       "      <th>Gender</th>\n",
       "      <th>Performance -  U</th>\n",
       "    </tr>\n",
       "  </thead>\n",
       "  <tbody>\n",
       "    <tr>\n",
       "      <th>54</th>\n",
       "      <td>English Language</td>\n",
       "      <td>NaN</td>\n",
       "      <td>Male</td>\n",
       "      <td>3373</td>\n",
       "    </tr>\n",
       "  </tbody>\n",
       "</table>\n",
       "</div>"
      ],
      "text/plain": [
       "             Subject Subject_2 Gender  Performance -  U\n",
       "54  English Language       NaN   Male              3373"
      ]
     },
     "execution_count": 18,
     "metadata": {},
     "output_type": "execute_result"
    },
    {
     "data": {
      "image/png": "[encoded data removed]",
      "text/plain": [
       "<Figure size 720x360 with 1 Axes>"
      ]
     },
     "metadata": {},
     "output_type": "display_data"
    }
   ],
   "source": [
    "dmf['Performance -  U']=dmf['Performance -  U'].astype('int')\n",
    "plt.figure(figsize=(10, 5))\n",
    "sns.swarmplot(x=\"Performance -  U\", y=\"Gender\", data=dmf, palette='Set2');\n",
    "plt.title('Student performance in U')\n",
    "dmf[dmf['Performance -  U'] > 3000][['Subject', 'Subject_2', 'Gender', 'Performance -  U']]\n"
   ]
  }
 ],
 "metadata": {
  "kernelspec": {
   "display_name": "Python 3",
   "language": "python",
   "name": "python3"
  },
  "language_info": {
   "codemirror_mode": {
    "name": "ipython",
    "version": 3
   },
   "file_extension": ".py",
   "mimetype": "text/x-python",
   "name": "python",
   "nbconvert_exporter": "python",
   "pygments_lexer": "ipython3",
   "version": "3.8.3"
  }
 },
 "nbformat": 4,
 "nbformat_minor": 4
}
