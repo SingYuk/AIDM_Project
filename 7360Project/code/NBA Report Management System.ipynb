{
 "cells": [
  {
   "cell_type": "markdown",
   "metadata": {},
   "source": [
    "# AIDM7360 Group Project\n",
    "# NBA Report Management System"
   ]
  },
  {
   "cell_type": "code",
   "execution_count": 9,
   "metadata": {},
   "outputs": [],
   "source": [
    "import sqlite3\n",
    "from sqlite3 import Error"
   ]
  },
  {
   "cell_type": "code",
   "execution_count": 10,
   "metadata": {},
   "outputs": [],
   "source": [
    "def create_connection(db_file):\n",
    "    conn = None\n",
    "    try:\n",
    "        conn = sqlite3.connect(db_file)\n",
    "        return conn\n",
    "    except Error as e:\n",
    "        print(e)\n",
    " \n",
    "    return conn\n",
    "\n",
    "def showOptions():\n",
    "    \"\"\" Show the options \"\"\"\n",
    "    choices = [\"Report performance of Lakers and opponent in one game(by date)\", \"Report James's performance in one game(by date)\",\n",
    "               \"Compare James's performance in one game with that in the games which Lakers won or lost(by date)\",\n",
    "               \"Compare the performance of James in one game with that of top players in Bucks & Heat(by date)\", \n",
    "               \"Add a game of Lakers\", \"Delete a game of Lakers\", \"Exit\"]\n",
    "    print(\"---------------------------\")\n",
    "    print(\"Please choose following option:\")\n",
    "    print(\"1. \", choices[0])\n",
    "    print(\"2. \", choices[1])\n",
    "    print(\"3. \", choices[2])\n",
    "    print(\"4. \", choices[3])\n",
    "    print(\"5. \", choices[4])\n",
    "    print(\"6. \", choices[5])\n",
    "    print(\"7. \", choices[6])"
   ]
  },
  {
   "cell_type": "markdown",
   "metadata": {},
   "source": [
    "## For Chioce '1': Performance of Lakers and opponent in one game"
   ]
  },
  {
   "cell_type": "code",
   "execution_count": 1,
   "metadata": {},
   "outputs": [],
   "source": [
    "def TeamsPerformance(conn):\n",
    "    date = input(\"Please input date of a game(For example: 2020/1/2):\")\n",
    "    date = date.strip()\n",
    "    with conn:\n",
    "        team = \"SELECT * FROM LAKERS WHERE DATE = ?\"\n",
    "        cur = conn.cursor()\n",
    "        cur.execute(team, [date])\n",
    "        game = cur.fetchone()\n",
    "        if game is None:\n",
    "            print(\"No such game.\")\n",
    "        else:\n",
    "            if game[2] == \"W\":\n",
    "                result = \"won\"\n",
    "            elif game[2] == \"L\":\n",
    "                result = \"lost\"\n",
    "            avgteam = \"SELECT PPG FROM TEAMS WHERE TEAM = ?\"\n",
    "            cur = conn.cursor()\n",
    "            cur.execute(avgteam, [\"LAL\"])\n",
    "            avgla = cur.fetchone()\n",
    "            if game[3] > avgla[0]:\n",
    "                highlow = \"higher than\"\n",
    "                diff = '%.1f'%(abs(game[3] - avgla[0]))\n",
    "            elif game[3] < avgla[0]:\n",
    "                highlow = \"lower than\"\n",
    "                diff = '%.1f'%(abs(game[3] - avgla[0]))\n",
    "            else:\n",
    "                highlow = \"equal to\"\n",
    "                diff = \"\"\n",
    "            \n",
    "            opp = game[1]\n",
    "            cur = conn.cursor()\n",
    "            cur.execute(avgteam, [opp])\n",
    "            avgte = cur.fetchone()\n",
    "            if game[4] > avgte[0]:\n",
    "                highlowot = \"higher than\"\n",
    "                diffot = '%.1f'%(abs(game[4] - avgte[0]))\n",
    "            elif game[4] < avgte[0]:\n",
    "                highlowot = \"lower than\"\n",
    "                diffot = '%.1f'%(abs(game[4] - avgte[0]))\n",
    "            else:\n",
    "                highlowot = \"equal to\"\n",
    "                diffot = \"\"\n",
    "        \n",
    "            lakers = \"In {} match in {}, Lakers {} the game, and got {} points, {} {} its average points in regular game.\"\n",
    "            teams = \"The opponent {} got {} points, {} {} its average points in regular game.\"\n",
    "        \n",
    "            print(lakers.format(date,game[5],result,game[3],diff,highlow))\n",
    "            print(teams.format(opp,game[4],diffot,highlowot))          "
   ]
  },
  {
   "cell_type": "markdown",
   "metadata": {},
   "source": [
    "# For Chioce '2': James's performance in one game"
   ]
  },
  {
   "cell_type": "code",
   "execution_count": 2,
   "metadata": {},
   "outputs": [],
   "source": [
    "def JamesPerformance(conn):\n",
    "    date = input('Please input date of a game(For example: 2020/1/2):')\n",
    "    date = date.strip()\n",
    "    with conn:\n",
    "\n",
    "        james = \"SELECT _MIN,PTS,REB,FG,AST,TOV,LOCATION FROM JAMES,LAKERS WHERE JAMES.DATE=LAKERS.DATE AND JAMES.DATE =?\"\n",
    "        cur = conn.cursor()\n",
    "        cur.execute(james,[date])\n",
    "        jdate = cur.fetchone()\n",
    "        if jdate is None:\n",
    "            print(\"James did not participate in this game.\")\n",
    "        else:\n",
    "            _min = jdate[0]\n",
    "            pts = jdate[1]\n",
    "            reb = jdate[2]\n",
    "            fg = jdate[3]\n",
    "            ast = jdate[4]\n",
    "            tov = jdate[5]\n",
    "            loca = jdate[6]\n",
    "    jamesper = \"In {} match in {}, James played {} minutes, scored {} points, and had {} rebounds and {} assists.\\\n",
    "    \\nHis field goal percentage and turnovers were {}, {} respectively.\"\n",
    "    print(jamesper.format(date,loca,_min,pts,reb,ast,fg,tov))      "
   ]
  },
  {
   "cell_type": "markdown",
   "metadata": {},
   "source": [
    "## For Chioce '3': Compare James's performance in one game with that in the games which Lakers won or lost"
   ]
  },
  {
   "cell_type": "code",
   "execution_count": 4,
   "metadata": {},
   "outputs": [],
   "source": [
    "def SelfCompare(conn):\n",
    "    date = input('Please input date of a game(For example: 2020/1/2):')\n",
    "    date = date.strip()\n",
    "    with conn:\n",
    "\n",
    "        james = \"SELECT _MIN,PTS,REB,FG,AST,TOV,LOCATION FROM JAMES,LAKERS WHERE JAMES.DATE=LAKERS.DATE AND JAMES.DATE =?\"\n",
    "        cur = conn.cursor()\n",
    "        cur.execute(james,[date])\n",
    "        jdate = cur.fetchone()\n",
    "        if jdate is None:\n",
    "            print(\"James did not participate in this game.\")\n",
    "        else:\n",
    "            _min = jdate[0]\n",
    "            pts = jdate[1]\n",
    "            reb = jdate[2]\n",
    "            fg = jdate[3]\n",
    "            ast = jdate[4]\n",
    "            tov = jdate[5]\n",
    "            loca = jdate[6]\n",
    "        mpts = \"SELECT MAX(JAMES.PTS),AVG(JAMES.PTS),MIN(JAMES.PTS) FROM JAMES,LAKERS WHERE JAMES.DATE=LAKERS.DATE AND LAKERS.RESULT=?\"\n",
    "        mast = \"SELECT MAX(JAMES.AST),AVG(JAMES.AST),MIN(JAMES.AST) FROM JAMES,LAKERS WHERE JAMES.DATE=LAKERS.DATE AND LAKERS.RESULT=?\"\n",
    "        mtov = \"SELECT MAX(JAMES.TOV),AVG(JAMES.TOV),MIN(JAMES.TOV) FROM JAMES,LAKERS WHERE JAMES.DATE=LAKERS.DATE AND LAKERS.RESULT=?\"\n",
    "\n",
    "        coun = \"SELECT COUNT(*) FROM LAKERS WHERE RESULT=?\"\n",
    "        \n",
    "        jamesasp=[\"points\",\"assists\",\"turnovers\"]\n",
    "        resu=[\"W\",\"L\"]\n",
    "        \n",
    "        cur = conn.cursor()\n",
    "        cur.execute(coun,[resu[0]])\n",
    "        counw = cur.fetchone()\n",
    "        cur = conn.cursor()\n",
    "        cur.execute(coun,[resu[1]])\n",
    "        counl = cur.fetchone()\n",
    "        \n",
    "        cur = conn.cursor()\n",
    "        cur.execute(mpts,[resu[0]])\n",
    "        mwpts = cur.fetchall()\n",
    "        cur = conn.cursor()\n",
    "        cur.execute(mpts,[resu[1]])\n",
    "        mlpts = cur.fetchall()\n",
    "        cur = conn.cursor()\n",
    "        cur.execute(mast,[resu[0]])\n",
    "        mwast = cur.fetchall()\n",
    "        cur = conn.cursor()\n",
    "        cur.execute(mast,[resu[1]])\n",
    "        mlast = cur.fetchall()\n",
    "        cur = conn.cursor()\n",
    "        cur.execute(mtov,[resu[0]])\n",
    "        mwtov = cur.fetchall()\n",
    "        cur = conn.cursor()\n",
    "        cur.execute(mtov,[resu[1]])\n",
    "        mltov = cur.fetchall()\n",
    "        \n",
    "        maxminw = mwpts+mwast+mwtov\n",
    "        maxminl = mlpts+mlast+mltov\n",
    "               \n",
    "        print(\"Here is a comparison between James's performance in this game and that in the games which Lakers won or lost.\")\n",
    "        reg = \"In the 2019-2020 regular season, The Lakers have won {} games and lost {} games this season.\"\n",
    "        wl = \"{}. When the Lakers won the game, the highest, the average and the lowest {} were {}, {}, {} respectively.\\\n",
    "        \\nWhen the Lakers lost the game, the highest, the average and the lowest {} were {}, {}, {} respectively.\"\n",
    "        print(reg.format(counw[0],counl[0]))\n",
    "        \n",
    "        for i in range(0,3):\n",
    "            print(wl.format(i+1,jamesasp[i],maxminw[i][0],'%.1f'%(maxminw[i][1]),maxminw[i][2],\\\n",
    "                            jamesasp[i],maxminl[i][0],'%.1f'%(maxminl[i][1]),maxminl[i][2]))     "
   ]
  },
  {
   "cell_type": "markdown",
   "metadata": {},
   "source": [
    "## For Chioce '4': Compare the performance of James in one game with that of top players in Bucks and Heat"
   ]
  },
  {
   "cell_type": "code",
   "execution_count": 5,
   "metadata": {},
   "outputs": [],
   "source": [
    "def OthersCompare(conn,team):\n",
    "    date = input('Please input date of a game(For example: 2020/1/2):')\n",
    "    date = date.strip()\n",
    "    with conn:\n",
    "        \n",
    "        james = \"SELECT _MIN,PTS,REB,FG,AST,TOV,LOCATION FROM JAMES,LAKERS WHERE JAMES.DATE=LAKERS.DATE AND JAMES.DATE =?\"\n",
    "        cur = conn.cursor()\n",
    "        cur.execute(james,[date])\n",
    "        jdate = cur.fetchone()\n",
    "        if jdate is None:\n",
    "            print(\"James did not participate in this game.\")\n",
    "        else:\n",
    "            _min = jdate[0]\n",
    "            pts = jdate[1]\n",
    "            reb = jdate[2]\n",
    "            fg = jdate[3]\n",
    "            ast = jdate[4]\n",
    "            tov = jdate[5]\n",
    "            loca = jdate[6]\n",
    "            \n",
    "        ptss = \"SELECT PLAYER,PTS FROM PLAYERS WHERE TEAM =? AND PTS >=(SELECT MAX(PTS) FROM PLAYERS WHERE TEAM =?)\"\n",
    "        fgs = \"SELECT PLAYER,FG FROM PLAYERS WHERE TEAM =? AND FG >=(SELECT MAX(FG) FROM PLAYERS WHERE TEAM =?)\"\n",
    "        rebs = \"SELECT PLAYER,REB FROM PLAYERS P1 WHERE NOT EXISTS(SELECT * FROM PLAYERS P2 WHERE P1.REB<P2.REB AND P2.TEAM=?) AND P1.TEAM=?\"\n",
    "    \n",
    "        cur = conn.cursor()\n",
    "        cur.execute(ptss,(team,team))\n",
    "        ptscom = cur.fetchall()\n",
    "        cur = conn.cursor()\n",
    "        cur.execute(fgs,(team,team))\n",
    "        fgcom = cur.fetchall()\n",
    "        cur = conn.cursor()\n",
    "        cur.execute(rebs,(team,team))\n",
    "        rebcom = cur.fetchall()\n",
    "        \n",
    "    c = \"{}. The {} player {} ranked first in average {} in the regular season, and his average {} was {}, {} {} James's {} in this game.\"\n",
    "    cla = [\"points\",\"field goal percentage\",\"rebounds\"]\n",
    "    com = (ptscom,fgcom,rebcom)\n",
    "    dat = [pts,fg,reb]\n",
    "    \n",
    "    for i in range(0,3):\n",
    "        \n",
    "        if com[i][0][1]>dat[i]:\n",
    "            diff = format(abs(com[i][0][1]-dat[i]), '.1f')\n",
    "            \n",
    "            highlow = \"higher than\"\n",
    "        elif com[i][0][1]<dat[i]:\n",
    "            diff = format(abs(com[i][0][1]-dat[i]), '.1f')\n",
    "            highlow = \"lower than\"\n",
    "        else:\n",
    "            diff = \"\"\n",
    "            highlow = \"equal to\"\n",
    "        print(c.format(i+1,team,com[i][0][0],cla[i],cla[i],com[i][0][1],diff,highlow,cla[i]))"
   ]
  },
  {
   "cell_type": "markdown",
   "metadata": {},
   "source": [
    "## For Choice '5': Add a game of Lakers"
   ]
  },
  {
   "cell_type": "code",
   "execution_count": 6,
   "metadata": {},
   "outputs": [],
   "source": [
    "def AddGame(conn):\n",
    "\n",
    "    print(\"Please input the date, opponent, result, point_Lakers, point_opp, location.\")\n",
    "    add = input(\"(For example: 2020/1/1, LAC, W, 110, 100, Staples Center):\")\n",
    "    values = add.split(',')\n",
    "    for i in range(0, len(values)):\n",
    "        values[i] = values[i].strip()\n",
    "    with conn:\n",
    "        sql = \"INSERT INTO LAKERS VALUES(?, ?, ?, ?, ?, ?)\"\n",
    "        cur = conn.cursor()\n",
    "        cur.execute(sql, (values[0], values[1], values[2], int(values[3]), int(values[4]), values[5]))\n",
    "        print(\"Succeed to add game!!!\")\n",
    "        return cur.lastrowid"
   ]
  },
  {
   "cell_type": "markdown",
   "metadata": {},
   "source": [
    "## For Choice '6': Delete a game of Lakers"
   ]
  },
  {
   "cell_type": "code",
   "execution_count": 7,
   "metadata": {},
   "outputs": [],
   "source": [
    "def DeleteGame(conn):\n",
    "\n",
    "    date = input(\"Please input the date to delete(For example: 2020/1/1): \")\n",
    "    date = date.strip()\n",
    "    with conn:\n",
    "        \n",
    "        sql = \"DELETE FROM LAKERS WHERE DATE =?\"\n",
    "        cur = conn.cursor()\n",
    "        cur.execute(sql, [date])\n",
    "        conn.commit()\n",
    "        print(\"Succeed to delete game: \", date)"
   ]
  },
  {
   "cell_type": "markdown",
   "metadata": {},
   "source": [
    "## Finally, let's get started to report"
   ]
  },
  {
   "cell_type": "code",
   "execution_count": null,
   "metadata": {},
   "outputs": [
    {
     "name": "stdout",
     "output_type": "stream",
     "text": [
      "---------------------------\n",
      "Please choose following option:\n",
      "1.  Report performance of Lakers and opponent in one game(by date)\n",
      "2.  Report James's performance in one game(by date)\n",
      "3.  Compare James's performance in one game with that in the games which Lakers won or lost(by date)\n",
      "4.  Compare the performance of James in one game with that of top players in Bucks & Heat(by date)\n",
      "5.  Add a game of Lakers\n",
      "6.  Delete a game of Lakers\n",
      "7.  Exit\n"
     ]
    },
    {
     "name": "stdin",
     "output_type": "stream",
     "text": [
      "Please enter your option:  1\n",
      "Please input date of a game(For example: 2020/1/2): 2019/12/29\n"
     ]
    },
    {
     "name": "stdout",
     "output_type": "stream",
     "text": [
      "In 2019/12/29 match in Moda Center, Lakers won the game, and got 128 points, 14.6 higher than its average points in regular game.\n",
      "The opponent POR got 120 points, 5.0 higher than its average points in regular game.\n",
      "---------------------------\n",
      "Please choose following option:\n",
      "1.  Report performance of Lakers and opponent in one game(by date)\n",
      "2.  Report James's performance in one game(by date)\n",
      "3.  Compare James's performance in one game with that in the games which Lakers won or lost(by date)\n",
      "4.  Compare the performance of James in one game with that of top players in Bucks & Heat(by date)\n",
      "5.  Add a game of Lakers\n",
      "6.  Delete a game of Lakers\n",
      "7.  Exit\n"
     ]
    },
    {
     "name": "stdin",
     "output_type": "stream",
     "text": [
      "Please enter your option:  2\n",
      "Please input date of a game(For example: 2020/1/2): 2019/12/29\n"
     ]
    },
    {
     "name": "stdout",
     "output_type": "stream",
     "text": [
      "In 2019/12/29 match in Moda Center, James played 37 minutes, scored 21 points, and had 7 rebounds and 16 assists.    \n",
      "His field goal percentage and turnovers were 46.7, 1 respectively.\n",
      "---------------------------\n",
      "Please choose following option:\n",
      "1.  Report performance of Lakers and opponent in one game(by date)\n",
      "2.  Report James's performance in one game(by date)\n",
      "3.  Compare James's performance in one game with that in the games which Lakers won or lost(by date)\n",
      "4.  Compare the performance of James in one game with that of top players in Bucks & Heat(by date)\n",
      "5.  Add a game of Lakers\n",
      "6.  Delete a game of Lakers\n",
      "7.  Exit\n"
     ]
    },
    {
     "name": "stdin",
     "output_type": "stream",
     "text": [
      "Please enter your option:  3\n",
      "Please input date of a game(For example: 2020/1/2): 2019/12/29\n"
     ]
    },
    {
     "name": "stdout",
     "output_type": "stream",
     "text": [
      "Here is a comparison between James's performance in this game and that in the games which Lakers won or lost.\n",
      "In the 2019-2020 regular season, The Lakers have won 52 games and lost 19 games this season.\n",
      "1. When the Lakers won the game, the highest, the average and the lowest points were 40, 26.8, 13 respectively.        \n",
      "When the Lakers lost the game, the highest, the average and the lowest points were 31, 21.1, 13 respectively.\n",
      "2. When the Lakers won the game, the highest, the average and the lowest assists were 16, 10.4, 4 respectively.        \n",
      "When the Lakers lost the game, the highest, the average and the lowest assists were 19, 9.7, 4 respectively.\n",
      "3. When the Lakers won the game, the highest, the average and the lowest turnovers were 8, 3.9, 0 respectively.        \n",
      "When the Lakers lost the game, the highest, the average and the lowest turnovers were 8, 4.0, 0 respectively.\n",
      "---------------------------\n",
      "Please choose following option:\n",
      "1.  Report performance of Lakers and opponent in one game(by date)\n",
      "2.  Report James's performance in one game(by date)\n",
      "3.  Compare James's performance in one game with that in the games which Lakers won or lost(by date)\n",
      "4.  Compare the performance of James in one game with that of top players in Bucks & Heat(by date)\n",
      "5.  Add a game of Lakers\n",
      "6.  Delete a game of Lakers\n",
      "7.  Exit\n"
     ]
    }
   ],
   "source": [
    "\"\"\"main\"\"\"\n",
    "database = \"NBA.db\"\n",
    "conn = create_connection(database)\n",
    "while True:\n",
    "    showOptions()\n",
    "    choice = input('Please enter your option: ')\n",
    "    # with conn:\n",
    "    if choice == '7':\n",
    "        conn.close() # close the connection\n",
    "        break\n",
    "    elif choice == '1':\n",
    "        TeamsPerformance(conn)\n",
    "    elif choice == '2':\n",
    "        JamesPerformance(conn)\n",
    "    elif choice == '3':\n",
    "        SelfCompare(conn)\n",
    "    elif choice == '4':\n",
    "        print(\"In the 2019-2020 season, the Bucks and Heat were also very competitive teams.\")\n",
    "        print(\"Here is a comparison between James's performance in this game and the average performance of other top players in the regular season.\")\n",
    "        print(\"Compared with top players in Bucks:\")    \n",
    "        OthersCompare(conn,\"MIL\")\n",
    "        print(\"Compared with top players in Heat:\")\n",
    "        OthersCompare(conn,\"MIA\") \n",
    "    elif choice == '5':\n",
    "        AddGame(conn)\n",
    "    elif choice == '6':\n",
    "        DeleteGame(conn)\n",
    "    else:\n",
    "        print(\"This option is not available\")\n",
    "        continue"
   ]
  }
 ],
 "metadata": {
  "kernelspec": {
   "display_name": "Python 3",
   "language": "python",
   "name": "python3"
  },
  "language_info": {
   "codemirror_mode": {
    "name": "ipython",
    "version": 3
   },
   "file_extension": ".py",
   "mimetype": "text/x-python",
   "name": "python",
   "nbconvert_exporter": "python",
   "pygments_lexer": "ipython3",
   "version": "3.8.3"
  }
 },
 "nbformat": 4,
 "nbformat_minor": 4
}
