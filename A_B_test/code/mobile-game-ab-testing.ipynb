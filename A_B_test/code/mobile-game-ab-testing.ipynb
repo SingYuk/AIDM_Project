{
 "cells": [
  {
   "cell_type": "markdown",
   "metadata": {
    "id": "view-in-github"
   },
   "source": [
    "<a href=\"https://colab.research.google.com/github/PN1019/MobileGameABTesting/blob/main/CookieCatsGameAnalysis.ipynb\" target=\"_parent\"><img src=\"https://colab.research.google.com/assets/colab-badge.svg\" alt=\"Open In Colab\"/></a>"
   ]
  },
  {
   "cell_type": "markdown",
   "metadata": {
    "id": "sm4pnsnXouvy"
   },
   "source": [
    "As players progress through the levels of the game, they will occasionally encounter gates that force them to wait a non-trivial amount of time or make an in-app purchase to progress. In addition to driving in-app purchases, these gates serve the important purpose of giving players an enforced break from playing the game, hopefully resulting in that the player's enjoyment of the game being increased and prolonged.\n",
    "\n",
    "\n",
    "But where should the gates be placed? Initially the first gate was placed at level 30, but in this notebook we're going to analyze an AB-test where we moved the first gate in Cookie Cats from level 30 to level 40. In particular, we will look at the impact on player retention. But before we get to that, a key step before undertaking any analysis is understanding the data. So let's load it in and take a look!\n",
    "\n"
   ]
  },
  {
   "cell_type": "code",
   "execution_count": null,
   "metadata": {
    "id": "FuQ7hTO2kPcK",
    "outputId": "44dc5baa-ddab-4f51-da07-c9f364ab0bfb"
   },
   "outputs": [],
   "source": [
    "# Importing pandas\n",
    "#import pandas as pd\n",
    "#from google.colab import files\n",
    "#uploaded = files.upload()\n",
    "\n"
   ]
  },
  {
   "cell_type": "code",
   "execution_count": 1,
   "metadata": {
    "id": "XRJQC3M2lLeI"
   },
   "outputs": [],
   "source": [
    "import pandas as pd\n",
    "import io\n",
    "import matplotlib.pyplot as plt\n",
    "\n",
    "\n",
    "#df2 = pd.read_csv(io.BytesIO(uploaded['cookie_cats_new.csv']))\n",
    "df = pd.read_csv('../data/cookie_cats.csv')\n"
   ]
  },
  {
   "cell_type": "code",
   "execution_count": 2,
   "metadata": {
    "id": "QbEw9gR4lLbB",
    "outputId": "4a9edf04-3199-4c3e-fc8a-4d0007774514"
   },
   "outputs": [
    {
     "name": "stdout",
     "output_type": "stream",
     "text": [
      "<class 'pandas.core.frame.DataFrame'>\n",
      "RangeIndex: 90189 entries, 0 to 90188\n",
      "Data columns (total 5 columns):\n",
      " #   Column          Non-Null Count  Dtype \n",
      "---  ------          --------------  ----- \n",
      " 0   userid          90189 non-null  int64 \n",
      " 1   version         90189 non-null  object\n",
      " 2   sum_gamerounds  90189 non-null  int64 \n",
      " 3   retention_1     90189 non-null  bool  \n",
      " 4   retention_7     90189 non-null  bool  \n",
      "dtypes: bool(2), int64(2), object(1)\n",
      "memory usage: 2.2+ MB\n"
     ]
    },
    {
     "data": {
      "text/plain": [
       "array(['gate_30', 'gate_40'], dtype=object)"
      ]
     },
     "execution_count": 2,
     "metadata": {},
     "output_type": "execute_result"
    }
   ],
   "source": [
    "#check head\n",
    "df.head()\n",
    "# Integrity Check\n",
    "df.info()\n",
    "\n",
    "# Describe\n",
    "df.describe()\n",
    "\n",
    "# Check levels\n",
    "df.version.unique()\n"
   ]
  },
  {
   "cell_type": "markdown",
   "metadata": {
    "id": "k-y2SpiJWBEm"
   },
   "source": [
    "### **EDA OUTPUT**\n",
    "\n",
    "It appears that we have **90,189** rows populated over 5 columns, and no missing data! Perfect.\n",
    "\n",
    "Our columns are userid, version, sum_gamerounds, retention_1, and retention_7.\n",
    " Only two columns contain numeric variables, userid and sum_gamerounds. Userid reflects unique user ID’s, and sum_gamerounds reflects the number of rounds played by each unique user. \n",
    " Version contains 2 groups, and will be the source of some of our AB groupings. \n",
    " As we see from our EDA output, there are two levels, gate_30 and gate_40. Finally, our last two columns, retention_1 and retention_7 are boolean values, True or False, indicating whether a player is still active after 1 or 7 days.\n",
    "\n",
    "Like most “free” mobile games, there is an economic element for the craftsmen of the product to generate revenue. \n",
    "In this case, there is a forced cool-down period after so many levels, which the player can remove by paying a fee. \n",
    "The version column in our dataframe reflects versions with different gates preventing the player’s progress, after 30 levels or after 40, these are recorded as gate_30 and gate_40.\n",
    "\n",
    "These two versions allow us a fine entry point to AB testing."
   ]
  },
  {
   "cell_type": "markdown",
   "metadata": {
    "id": "EjAjlMMDkZmC"
   },
   "source": [
    "**Sanity Check**\n",
    "\n",
    "Let’s first define the population sizes we’re dealing with to make sure we can proceed with a statistically sound comparison."
   ]
  },
  {
   "cell_type": "code",
   "execution_count": 3,
   "metadata": {
    "id": "RzQ_y3S_VsI8",
    "outputId": "01ebafd0-4943-46cc-f0d7-ff421e2222d3"
   },
   "outputs": [
    {
     "name": "stdout",
     "output_type": "stream",
     "text": [
      "version\n",
      "False    45489\n",
      "True     44700\n",
      "Name: version, dtype: int64\n",
      "version\n",
      "False    44700\n",
      "True     45489\n",
      "Name: version, dtype: int64\n"
     ]
    }
   ],
   "source": [
    "# Counting the number of players in each AB group.\n",
    "A = df.version.groupby(df.version == \"gate_30\").count()\n",
    "B = df.version.groupby(df.version == \"gate_40\").count()\n",
    "print(A)\n",
    "print(B)\n"
   ]
  },
  {
   "cell_type": "markdown",
   "metadata": {
    "id": "naUfxpnnlQJU"
   },
   "source": [
    "Of our 90,189 total records, approximately half are using version gate_30 (which we will call Group A) and the other half are using version gate_40 (which we will call version B).\n",
    "\n",
    "This is great, we can proceed with the analysis.\n",
    "\n"
   ]
  },
  {
   "cell_type": "markdown",
   "metadata": {
    "id": "pG85EVrdlzeB"
   },
   "source": [
    "**How Much Do They Play?**\n",
    "\n",
    "We want to see how many how long players typically stay with a product. One way to measure the metric in this case, is to examine how many rounds each user plays.\n",
    "\n",
    "Since we’re using a Pandas DataFrame, we can take the following approach. We’ll use .groupby() to set each user’s experience to a bin, and return a total count. We’ll then plot how many players are active within a set range, showing us the counts of players within the 0-100 range of total rounds played."
   ]
  },
  {
   "cell_type": "code",
   "execution_count": 4,
   "metadata": {
    "id": "0XSf53SllUKl",
    "outputId": "33948d1d-4b46-45dc-b8ec-097fc84e525b"
   },
   "outputs": [
    {
     "data": {
      "text/plain": [
       "Text(0.5, 1.0, 'Number of Game Rounds Players on the First Week')"
      ]
     },
     "execution_count": 4,
     "metadata": {},
     "output_type": "execute_result"
    },
    {
     "data": {
      "image/png": "[encoded data removed]",
      "text/plain": [
       "<Figure size 432x288 with 1 Axes>"
      ]
     },
     "metadata": {
      "needs_background": "light"
     },
     "output_type": "display_data"
    }
   ],
   "source": [
    "# Counting the number of players for each number of gamerounds \n",
    "plot_df = df.groupby(\"sum_gamerounds\").count()\n",
    "\n",
    "# Plotting the distribution of players that played 0 to 100 game rounds\n",
    "ax = plot_df[:100].plot()\n",
    "ax.set_xlabel(\"Total Game Rounds\")\n",
    "ax.set_ylabel(\"Number Of Players\")\n",
    "ax.set_title(\"Number of Game Rounds Players on the First Week\")"
   ]
  },
  {
   "cell_type": "markdown",
   "metadata": {
    "id": "_tJgcBs3oBaX"
   },
   "source": [
    "#### **Conclusion:**\n",
    "\n",
    "It appears that the vast majority of users are playing less than 20 rounds in total, over the recording of this data.\n",
    "\n",
    "Let’s take the same approach to see if there is much of a difference in the number of games played in our AB versions allotted to each user.\n",
    "\n"
   ]
  },
  {
   "cell_type": "markdown",
   "metadata": {
    "id": "-wtbfRTsorIt"
   },
   "source": [
    "## **Group Distributions: A vs B Total Plays**\n",
    "\n",
    "This time, we’ll need to explore the data a bit more. We’re also going to switch to an overlayed bar-plot of the distinct AB group distributions.\n",
    "\n",
    "Since we’ve already identified that the drop off in users occurs in less than 20 sessions, let’s also change our bin distribution to get a more nuanced view of the low end and high end of user activities.\n",
    "\n",
    "\n"
   ]
  },
  {
   "cell_type": "code",
   "execution_count": 5,
   "metadata": {
    "id": "kIBsILLepQNg",
    "outputId": "f0aea933-6d8f-45b8-8b52-ad65d70044ee"
   },
   "outputs": [
    {
     "name": "stdout",
     "output_type": "stream",
     "text": [
      "    userid  version  sum_gamerounds  retention_1  retention_7\n",
      "0      116  gate_30               3        False        False\n",
      "1      337  gate_30              38         True        False\n",
      "6     1066  gate_30               0        False        False\n",
      "11    2101  gate_30               0        False        False\n",
      "13    2179  gate_30              39         True        False\n",
      "   userid  version  sum_gamerounds  retention_1  retention_7\n",
      "2     377  gate_40             165         True        False\n",
      "3     483  gate_40               1        False        False\n",
      "4     488  gate_40             179         True         True\n",
      "5     540  gate_40             187         True         True\n",
      "7    1444  gate_40               2        False        False\n"
     ]
    }
   ],
   "source": [
    "plt.style.use('ggplot')\n",
    "\n",
    "# Counting the number of players for each number of gamerounds \n",
    "Group_A = df[df.version == 'gate_30']\n",
    "print(Group_A.head())\n",
    "\n",
    "Group_B = df[df.version == 'gate_40']\n",
    "print(Group_B.head())\n",
    "bins = [0,1,10,20,30,40,50,60,70,80,90,100,200,500]\n",
    "plot_GA = pd.DataFrame(Group_A.groupby(pd.cut(Group_A[\"sum_gamerounds\"], bins=bins)).count())\n",
    "plot_GB = pd.DataFrame(Group_B.groupby(pd.cut(Group_B[\"sum_gamerounds\"], bins=bins)).count())\n"
   ]
  },
  {
   "cell_type": "markdown",
   "metadata": {
    "id": "Sp0VbCNgqEiS"
   },
   "source": [
    "Remember, we’re going to overlay our graphs, so take particular notice of one approach that works for our example, where we assign the second graph the parameter ax=ax to allow the overlay of the second distribution.\n",
    "\n"
   ]
  },
  {
   "cell_type": "code",
   "execution_count": 6,
   "metadata": {
    "id": "1L-g5XL9qEKv",
    "outputId": "eca0552f-31ab-48eb-a095-6bd4f6add4b9"
   },
   "outputs": [
    {
     "data": {
      "image/png": "[encoded data removed]",
      "text/plain": [
       "<Figure size 432x288 with 1 Axes>"
      ]
     },
     "metadata": {},
     "output_type": "display_data"
    }
   ],
   "source": [
    "# Plotting the distribution of players that played 0 to 100 game rounds\n",
    "ax = plot_GA[:50].plot(kind = 'bar', y=\"userid\", color = \"blue\", alpha = 1, \n",
    "                       title = 'Total Usage By Groups')\n",
    "plot_GB[:50].plot(kind = 'bar', y=\"userid\", ax=ax, color = \"red\", alpha = 0.7 )\n",
    "ax.set_xlabel(\"Total Game Rounds\")\n",
    "ax.set_ylabel(\"Number of Players\")\n",
    "plt.legend([\"Group A\", \"Group B\"])\n",
    "plt.tight_layout()\n",
    "plt.grid(True)\n"
   ]
  },
  {
   "cell_type": "markdown",
   "metadata": {
    "id": "UG9FjmmNorGG"
   },
   "source": [
    "There doesn’t seem to be a large difference between the two versions overall. However, there does seem to be some slight disparities around the 30-40 marks that may be related to the AB test at hand.\n",
    "\n"
   ]
  },
  {
   "cell_type": "markdown",
   "metadata": {
    "id": "jHg4oQWltEf5"
   },
   "source": [
    "\n",
    "**Overall 1-Day Retention**\n",
    "\n",
    "\n",
    "What we want is for players to like the game and to get hooked. A common metric in the video gaming industry for how fun and engaging a game is 1-day retention: The percentage of players that comes back and plays the game one day after they have installed it. The higher 1-day retention is, the easier it is to retain players and build a large player base.\n",
    "\n",
    "As a step, let's look at what 1-day retention is overall.\n",
    "\n"
   ]
  },
  {
   "cell_type": "code",
   "execution_count": 7,
   "metadata": {
    "id": "hDLBSI0brpKr",
    "outputId": "41f40e8d-7564-4d61-91cd-fde827170015"
   },
   "outputs": [
    {
     "name": "stdout",
     "output_type": "stream",
     "text": [
      "44.52095044850259%\n"
     ]
    }
   ],
   "source": [
    "# Calculate percent of returning users - next day 一天后留存率\n",
    "oneday = df.retention_1.sum()/df.retention_1.count()\n",
    "print(str(oneday*100)+\"%\")\n"
   ]
  },
  {
   "cell_type": "markdown",
   "metadata": {
    "id": "rg5yBkI4sQF-"
   },
   "source": [
    "\n",
    "**44.52095044850259%**\n",
    "Return the day following an installation of the product.\n",
    "\n",
    "Slightly less than half? Ok, just out of curiousity is there any fundamental difference in our two user populations from the start regardless of version impact? This time, let’s do as we did above, but this time group them by version group and see how the numbers pan out.\n",
    "\n"
   ]
  },
  {
   "cell_type": "code",
   "execution_count": 13,
   "metadata": {
    "id": "Dw60UMRXsp-k",
    "outputId": "ef64aa7f-fb2b-43bc-b505-62066d3fb001"
   },
   "outputs": [
    {
     "name": "stdout",
     "output_type": "stream",
     "text": [
      "version\n",
      "gate_30    0.448188\n",
      "gate_40    0.442283\n",
      "Name: retention_1, dtype: float64\n"
     ]
    }
   ],
   "source": [
    "# Calculating 1-day retention for each AB-group\n",
    "oneday = df.retention_1.groupby(df.version).sum()/df.retention_1.groupby(df.version).count()\n",
    "print(oneday)\n"
   ]
  },
  {
   "cell_type": "markdown",
   "metadata": {
    "id": "lzmAfmZktEc2"
   },
   "source": [
    "It looks like regardless of version, next day returns are essentially the same between our experimental groups.\n",
    "\n",
    "But, there IS that 0.6% loss in return players randomized to the 40 round gate…could it be significant? Maybe this product will see millions of users and that extra 0.6% could translate into some paying customers and/or ad dollars.\n",
    "\n",
    "It’s worth investigating.\n",
    "\n",
    "We can use *Bootstrapping* to test our confidence. Bootstrapping is used in many disciplines, such as in molecular biology to help the analysis of phylogenetics, to re-sample and replace data to and test our statistical confidence in our results.\n",
    "\n"
   ]
  },
  {
   "cell_type": "markdown",
   "metadata": {
    "id": "1CFF-xwfvBmp"
   },
   "source": [
    "# **Bootstrapping Means Sampling**"
   ]
  },
  {
   "cell_type": "code",
   "execution_count": 18,
   "metadata": {
    "id": "htc59blhvAiT",
    "outputId": "485c9ec0-0e40-4e80-ad8c-bc4ea83af7e5"
   },
   "outputs": [
    {
     "data": {
      "text/html": [
       "<div>\n",
       "<style scoped>\n",
       "    .dataframe tbody tr th:only-of-type {\n",
       "        vertical-align: middle;\n",
       "    }\n",
       "\n",
       "    .dataframe tbody tr th {\n",
       "        vertical-align: top;\n",
       "    }\n",
       "\n",
       "    .dataframe thead th {\n",
       "        text-align: right;\n",
       "    }\n",
       "</style>\n",
       "<table border=\"1\" class=\"dataframe\">\n",
       "  <thead>\n",
       "    <tr style=\"text-align: right;\">\n",
       "      <th>version</th>\n",
       "      <th>gate_30</th>\n",
       "      <th>gate_40</th>\n",
       "    </tr>\n",
       "  </thead>\n",
       "  <tbody>\n",
       "    <tr>\n",
       "      <th>retention_1</th>\n",
       "      <td>0.446759</td>\n",
       "      <td>0.446963</td>\n",
       "    </tr>\n",
       "    <tr>\n",
       "      <th>retention_1</th>\n",
       "      <td>0.446914</td>\n",
       "      <td>0.440356</td>\n",
       "    </tr>\n",
       "    <tr>\n",
       "      <th>retention_1</th>\n",
       "      <td>0.448455</td>\n",
       "      <td>0.444912</td>\n",
       "    </tr>\n",
       "    <tr>\n",
       "      <th>retention_1</th>\n",
       "      <td>0.449201</td>\n",
       "      <td>0.439939</td>\n",
       "    </tr>\n",
       "    <tr>\n",
       "      <th>retention_1</th>\n",
       "      <td>0.446082</td>\n",
       "      <td>0.440403</td>\n",
       "    </tr>\n",
       "    <tr>\n",
       "      <th>...</th>\n",
       "      <td>...</td>\n",
       "      <td>...</td>\n",
       "    </tr>\n",
       "    <tr>\n",
       "      <th>retention_1</th>\n",
       "      <td>0.447497</td>\n",
       "      <td>0.447337</td>\n",
       "    </tr>\n",
       "    <tr>\n",
       "      <th>retention_1</th>\n",
       "      <td>0.445967</td>\n",
       "      <td>0.438910</td>\n",
       "    </tr>\n",
       "    <tr>\n",
       "      <th>retention_1</th>\n",
       "      <td>0.447645</td>\n",
       "      <td>0.440647</td>\n",
       "    </tr>\n",
       "    <tr>\n",
       "      <th>retention_1</th>\n",
       "      <td>0.447200</td>\n",
       "      <td>0.441163</td>\n",
       "    </tr>\n",
       "    <tr>\n",
       "      <th>retention_1</th>\n",
       "      <td>0.447770</td>\n",
       "      <td>0.442263</td>\n",
       "    </tr>\n",
       "  </tbody>\n",
       "</table>\n",
       "<p>500 rows × 2 columns</p>\n",
       "</div>"
      ],
      "text/plain": [
       "version       gate_30   gate_40\n",
       "retention_1  0.446759  0.446963\n",
       "retention_1  0.446914  0.440356\n",
       "retention_1  0.448455  0.444912\n",
       "retention_1  0.449201  0.439939\n",
       "retention_1  0.446082  0.440403\n",
       "...               ...       ...\n",
       "retention_1  0.447497  0.447337\n",
       "retention_1  0.445967  0.438910\n",
       "retention_1  0.447645  0.440647\n",
       "retention_1  0.447200  0.441163\n",
       "retention_1  0.447770  0.442263\n",
       "\n",
       "[500 rows x 2 columns]"
      ]
     },
     "execution_count": 18,
     "metadata": {},
     "output_type": "execute_result"
    }
   ],
   "source": [
    "# Creating an list with bootstrapped means for each AB-group\n",
    "boot_1d = []\n",
    "for i in range(500):\n",
    "    boot_mean = df.retention_1.sample(frac=1, replace=True).groupby(df.version).mean()\n",
    "    boot_1d.append(boot_mean)\n",
    "    \n",
    "# Transforming the list to a DataFrame\n",
    "boot_1d = pd.DataFrame(boot_1d)\n",
    "boot_1d\n",
    "    \n"
   ]
  },
  {
   "cell_type": "code",
   "execution_count": 15,
   "metadata": {
    "id": "Ku1LM2_Ewqc8",
    "outputId": "8f8cac46-d64b-4816-f141-b1c145bf63e1"
   },
   "outputs": [
    {
     "data": {
      "text/plain": [
       "Text(0.5, 0, 'The Average of 1-Day Retention')"
      ]
     },
     "execution_count": 15,
     "metadata": {},
     "output_type": "execute_result"
    },
    {
     "data": {
      "image/png": "[encoded data removed]",
      "text/plain": [
       "<Figure size 432x288 with 1 Axes>"
      ]
     },
     "metadata": {},
     "output_type": "display_data"
    }
   ],
   "source": [
    "# A Kernel Density Estimate plot of the bootstrap distributions\n",
    "ax= boot_1d.plot.kde()\n",
    "ax.set_title(\"The Average of 1-Day Retention for each AB group\")\n",
    "ax.set_xlabel(\"The Average of 1-Day Retention\")"
   ]
  },
  {
   "cell_type": "markdown",
   "metadata": {
    "id": "A5f3h3LHvBjl"
   },
   "source": [
    "**Zooming over % Difference**\n",
    "\n",
    "These two distributions above represent the bootstrap uncertainty over what the underlying 1-day retention could be for the two AB-groups. Let’s zoom in on the difference in 1-day retention.\n"
   ]
  },
  {
   "cell_type": "code",
   "execution_count": 21,
   "metadata": {
    "id": "apPHSZVYwqaj",
    "outputId": "38931619-50da-4730-d33b-9abd36ebc117"
   },
   "outputs": [
    {
     "data": {
      "text/plain": [
       "Text(0.5, 1.0, 'Zooming % Difference')"
      ]
     },
     "execution_count": 21,
     "metadata": {},
     "output_type": "execute_result"
    },
    {
     "data": {
      "image/png": "[encoded data removed]",
      "text/plain": [
       "<Figure size 432x288 with 1 Axes>"
      ]
     },
     "metadata": {},
     "output_type": "display_data"
    }
   ],
   "source": [
    "# Populate a new % Difference Column\n",
    "boot_1d['difference'] = (boot_1d['gate_30'] - boot_1d['gate_40']) /  boot_1d['gate_40'] * 100\n",
    "\n",
    "# Plot the new Column\n",
    "ax = boot_1d['difference'].plot.kde()\n",
    "ax.set_xlabel(\"% Difference for 1-Day Retention by AB-group \")\n",
    "ax.set_title(\"Zooming % Difference\")"
   ]
  },
  {
   "cell_type": "markdown",
   "metadata": {
    "id": "DRD-6oRi2KZn"
   },
   "source": [
    "From this chart, we can see that the most likely % difference is around 1% — 2%, and that most of the distribution is above 0%, in favor of a gate at level 30. But what is the probability that the difference is above 0%?\n",
    "\n"
   ]
  },
  {
   "cell_type": "code",
   "execution_count": 22,
   "metadata": {
    "id": "jQ09PA112MVJ",
    "outputId": "c72d0b12-4f57-426d-b965-34e0ef72b041"
   },
   "outputs": [
    {
     "name": "stdout",
     "output_type": "stream",
     "text": [
      "96.6%\n"
     ]
    }
   ],
   "source": [
    "prob =(boot_1d['difference'] > 0).sum() / len(boot_1d['difference'])\n",
    "print(str(prob*100)+\"%\")\n"
   ]
  },
  {
   "cell_type": "markdown",
   "metadata": {
    "id": "hrvtZpKG3xja"
   },
   "source": [
    "**Overall 7 Day Retention**\n",
    "\n",
    "The bootstrap analysis tells us that there is a high probability that 1-day retention is better when the gate is at level 30. However, since players have only been playing the game for one day, it is likely that most players haven't reached level 30 yet. That is, many players won't have been affected by the gate, even if it's as early as level 30.\n",
    "\n",
    "But after having played for a week, more players should have reached level 40, and therefore it makes sense to also look at 7-day retention. That is: What percentage of the people that installed the game also showed up a week later to play the game again.\n",
    "\n",
    "Let's start by calculating 7-day retention for the two AB-groups."
   ]
  },
  {
   "cell_type": "code",
   "execution_count": 23,
   "metadata": {
    "id": "l5vDQ6qo5Ipb",
    "outputId": "f4332aa7-69a5-443d-bf29-cfefa89bf59e"
   },
   "outputs": [
    {
     "data": {
      "text/plain": [
       "version\n",
       "gate_30    0.190201\n",
       "gate_40    0.182000\n",
       "Name: retention_7, dtype: float64"
      ]
     },
     "execution_count": 23,
     "metadata": {},
     "output_type": "execute_result"
    }
   ],
   "source": [
    "# Calculating 7-day retention for both AB-groups\n",
    "df.groupby('version')['retention_7'].sum() / df.groupby('version')['retention_7'].count()\n"
   ]
  },
  {
   "cell_type": "markdown",
   "metadata": {
    "id": "ep-QYa0m5IJe"
   },
   "source": [
    "Like with 1-day retention, we see that 7-day retention is slightly lower (18.2%) when the gate is at level 40 than when the gate is at level 30 (19.0%). This difference is also larger than for 1-day retention, presumably because more players have had time to hit the first gate. But as before, let’s use bootstrap analysis to figure out how certain we should be of the difference between the AB-groups.\n",
    "\n"
   ]
  },
  {
   "cell_type": "code",
   "execution_count": 25,
   "metadata": {
    "id": "SYSwMUn25_nZ",
    "outputId": "f0673adb-4ef5-4327-ea2f-80a8ef218d59"
   },
   "outputs": [
    {
     "name": "stdout",
     "output_type": "stream",
     "text": [
      "version       gate_30   gate_40\n",
      "retention_7  0.190627  0.182411\n",
      "retention_7  0.190297  0.182490\n",
      "retention_7  0.193546  0.181101\n",
      "retention_7  0.191355  0.178814\n",
      "retention_7  0.190657  0.180453\n"
     ]
    }
   ],
   "source": [
    "boot_7d = []\n",
    "for i in range(500):\n",
    "    boot_mean = df.retention_7.sample(frac=1, replace=True).groupby(df.version).mean()\n",
    "    boot_7d.append(boot_mean)\n",
    "    \n",
    "# Transforming the list to a DataFrame\n",
    "boot_7d = pd.DataFrame(boot_7d)\n",
    "print(boot_7d.head())\n",
    "# Adding a column with the % difference between the two AB-groups\n",
    "boot_7d['diff'] = (boot_7d['gate_30'] - boot_7d['gate_40']) /  boot_7d['gate_40'] * 100\n",
    "\n"
   ]
  },
  {
   "cell_type": "code",
   "execution_count": 26,
   "metadata": {
    "id": "eiPt7o8c6mRy",
    "outputId": "aa2588ae-9ac1-4ca7-cf29-e0191c0e2242"
   },
   "outputs": [
    {
     "name": "stdout",
     "output_type": "stream",
     "text": [
      "0.996\n"
     ]
    },
    {
     "data": {
      "image/png": "[encoded data removed]",
      "text/plain": [
       "<Figure size 432x288 with 1 Axes>"
      ]
     },
     "metadata": {},
     "output_type": "display_data"
    }
   ],
   "source": [
    "# Plotting the bootstrap % difference\n",
    "ax = boot_7d['diff'].plot.kde()\n",
    "ax.set_xlabel(\"% difference in means\")\n",
    "ax.set_title(\"% Difference Distribution For 7 Days\")\n",
    "# Calculating the probability that 7-day retention is greater when the gate is at level 30\n",
    "prob = (boot_7d['diff'] > 0).sum() / len(boot_7d['diff'])\n",
    "\n",
    "# Pretty printing the probability\n",
    "print(prob)\n"
   ]
  },
  {
   "cell_type": "markdown",
   "metadata": {
    "id": "On1mk0y5ZB_Y"
   },
   "source": [
    "## **The Conclusion**\n",
    "\n",
    "The bootstrap result tells us that there is strong evidence that 7-day retention is higher when the gate is at level 30 than when it is at level 40. The conclusion is: If we want to keep retention high — both 1-day and 7-day retention — we should not move the gate from level 30 to level 40. There are, of course, other metrics we could look at, like the number of game rounds played or how much in-game purchases are made by the two AB-groups. But retention is one of the most important metrics. If we don’t retain our player base, it doesn’t matter how much money they spend in-game.\n",
    "\n",
    "So, why is retention higher when the gate is positioned earlier? One could expect the opposite: The later the obstacle, the longer people are going to engage with the game. But this is not what the data tells us. The theory of hedonic adaptation can give one explanation for this. In short, hedonic adaptation is the tendency for people to get less and less enjoyment out of a fun activity over time if that activity is undertaken continuously. By forcing players to take a break when they reach a gate, their enjoyment of the game is prolonged. But when the gate is moved to level 40, fewer players make it far enough, and they are more likely to quit the game because they simply got bored of it.\n",
    "\n",
    "***Therefore, it makes sense that we keep gate at Level 30***\n",
    "\n"
   ]
  }
 ],
 "metadata": {
  "kernelspec": {
   "display_name": "Python 3",
   "language": "python",
   "name": "python3"
  },
  "language_info": {
   "codemirror_mode": {
    "name": "ipython",
    "version": 3
   },
   "file_extension": ".py",
   "mimetype": "text/x-python",
   "name": "python",
   "nbconvert_exporter": "python",
   "pygments_lexer": "ipython3",
   "version": "3.8.3"
  }
 },
 "nbformat": 4,
 "nbformat_minor": 4
}
